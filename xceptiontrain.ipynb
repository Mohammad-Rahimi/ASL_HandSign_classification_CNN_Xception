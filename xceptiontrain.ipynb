{
 "cells": [
  {
   "cell_type": "code",
   "execution_count": 1,
   "metadata": {
    "id": "0YBEz670Nnmv",
    "tags": []
   },
   "outputs": [],
   "source": [
    "import matplotlib.pyplot as plt\n",
    "import numpy as np\n",
    "import os\n",
    "import PIL\n",
    "import tensorflow as tf\n",
    "from tensorflow import keras\n",
    "from tensorflow.keras import layers\n",
    "from tensorflow.python.keras.layers import Dense, Flatten\n",
    "from tensorflow.keras.models import Sequential\n",
    "from tensorflow.keras.optimizers import Adam\n",
    "import numpy as np\n",
    "import tensorflow_datasets as tfds\n",
    "import tensorflow as tf\n",
    "import matplotlib.pyplot as plt;\n",
    "from tensorflow.keras.utils import to_categorical\n",
    "from tensorflow.keras.applications import Xception\n",
    "from tensorflow.keras.applications.xception import preprocess_input, decode_predictions\n",
    "from tensorflow.keras.preprocessing import image\n",
    "from tensorflow.keras import layers, models\n",
    "from tensorflow.keras.callbacks import EarlyStopping\n",
    "from tensorflow.keras.models import Sequential\n",
    "import os as os\n",
    "import cv2"
   ]
  },
  {
   "cell_type": "code",
   "execution_count": 2,
   "metadata": {
    "tags": []
   },
   "outputs": [],
   "source": [
    "import numpy as np\n",
    "import numpy.random as npr\n",
    "import matplotlib.pyplot as plt\n",
    "%matplotlib inline\n",
    "plt.style.use('bmh')"
   ]
  },
  {
   "cell_type": "markdown",
   "metadata": {
    "id": "Ir0q0GyfgmSI"
   },
   "source": [
    "# Preparing The Data"
   ]
  },
  {
   "cell_type": "code",
   "execution_count": 3,
   "metadata": {
    "tags": []
   },
   "outputs": [],
   "source": [
    "data = np.load('data_train220.npy')\n",
    "n=220"
   ]
  },
  {
   "cell_type": "code",
   "execution_count": 4,
   "metadata": {
    "tags": []
   },
   "outputs": [],
   "source": [
    "labels = np.load('labels_train.npy')"
   ]
  },
  {
   "cell_type": "code",
   "execution_count": 5,
   "metadata": {
    "tags": []
   },
   "outputs": [
    {
     "data": {
      "text/plain": [
       "8443"
      ]
     },
     "execution_count": 5,
     "metadata": {},
     "output_type": "execute_result"
    }
   ],
   "source": [
    "len(data)"
   ]
  },
  {
   "cell_type": "code",
   "execution_count": 6,
   "metadata": {
    "colab": {
     "base_uri": "https://localhost:8080/"
    },
    "id": "m2SdFPT6cpAi",
    "outputId": "bbceb15b-9425-42dd-8920-4ff7f39dd900",
    "tags": []
   },
   "outputs": [],
   "source": [
    "labels = to_categorical(labels,num_classes=9)"
   ]
  },
  {
   "cell_type": "code",
   "execution_count": 7,
   "metadata": {
    "tags": []
   },
   "outputs": [],
   "source": [
    "# Assuming you have data and labels as numpy arrays\n",
    "# Shuffle indices\n",
    "indices = np.arange(data.shape[0])\n",
    "np.random.shuffle(indices)\n",
    "\n",
    "# Shuffle data and labels using the shuffled indices\n",
    "data = data[indices]\n",
    "labels = labels[indices]"
   ]
  },
  {
   "cell_type": "code",
   "execution_count": 8,
   "metadata": {
    "tags": []
   },
   "outputs": [
    {
     "data": {
      "text/plain": [
       "(8443, 220, 220, 3)"
      ]
     },
     "execution_count": 8,
     "metadata": {},
     "output_type": "execute_result"
    }
   ],
   "source": [
    "data.shape"
   ]
  },
  {
   "cell_type": "code",
   "execution_count": 9,
   "metadata": {
    "tags": []
   },
   "outputs": [],
   "source": [
    "mycutdata=data[7754:-1,:,:,:]\n",
    "mycutlabels=labels[7754:-1]\n"
   ]
  },
  {
   "cell_type": "code",
   "execution_count": 10,
   "metadata": {
    "tags": []
   },
   "outputs": [],
   "source": [
    "data=data[0:7753,:,:,:]"
   ]
  },
  {
   "cell_type": "code",
   "execution_count": 11,
   "metadata": {
    "tags": []
   },
   "outputs": [],
   "source": [
    "labels=labels[0:7753]"
   ]
  },
  {
   "cell_type": "code",
   "execution_count": 12,
   "metadata": {
    "tags": []
   },
   "outputs": [
    {
     "name": "stderr",
     "output_type": "stream",
     "text": [
      "2023-12-06 04:25:49.466917: I tensorflow/core/platform/cpu_feature_guard.cc:151] This TensorFlow binary is optimized with oneAPI Deep Neural Network Library (oneDNN) to use the following CPU instructions in performance-critical operations:  SSE4.1 SSE4.2 AVX AVX2 FMA\n",
      "To enable them in other operations, rebuild TensorFlow with the appropriate compiler flags.\n",
      "2023-12-06 04:25:50.736957: I tensorflow/core/common_runtime/gpu/gpu_device.cc:1525] Created device /job:localhost/replica:0/task:0/device:GPU:0 with 78911 MB memory:  -> device: 0, name: NVIDIA A100-SXM4-80GB, pci bus id: 0000:07:00.0, compute capability: 8.0\n",
      "2023-12-06 04:25:50.742248: I tensorflow/core/common_runtime/gpu/gpu_device.cc:1525] Created device /job:localhost/replica:0/task:0/device:GPU:1 with 78911 MB memory:  -> device: 1, name: NVIDIA A100-SXM4-80GB, pci bus id: 0000:90:00.0, compute capability: 8.0\n"
     ]
    }
   ],
   "source": [
    "mycutdata = tf.data.Dataset.from_tensor_slices((mycutdata, mycutlabels))\n"
   ]
  },
  {
   "cell_type": "code",
   "execution_count": 13,
   "metadata": {
    "tags": []
   },
   "outputs": [],
   "source": [
    "\n",
    "buffer_size = len(data)  # Set buffer size as per your dataset size\n",
    "data = tf.data.Dataset.from_tensor_slices((data, labels))\n",
    "data = data.shuffle(buffer_size)"
   ]
  },
  {
   "cell_type": "markdown",
   "metadata": {
    "id": "jK5tHnEpggbu"
   },
   "source": [
    "# Training The Model\n"
   ]
  },
  {
   "cell_type": "code",
   "execution_count": 20,
   "metadata": {
    "tags": []
   },
   "outputs": [],
   "source": [
    "from tensorflow.keras.layers import Input, Flatten, Dense\n",
    "from tensorflow.keras.models import Model\n",
    "import tensorflow as tf\n",
    "from tensorflow.keras.callbacks import ReduceLROnPlateau\n",
    "from tensorflow.keras.layers import Dropout\n",
    " \n",
    "#lr_scheduler = ReduceLROnPlateau(\n",
    "#    monitor='val_loss',  # You can also use 'val_accuracy' or other metrics\n",
    "#    factor=0.2,           # Factor by which the learning rate will be reduced\n",
    "#    patience=6,          # Number of epochs with no improvement after which learning rate will be reduced\n",
    "#    min_lr=1e-6           # Lower bound on the learning rate\n",
    "#)\n",
    "\n",
    "# Create the Xception base model\n",
    "base_model = tf.keras.applications.Xception(\n",
    "    include_top=False,\n",
    "    weights=\"imagenet\",\n",
    "    input_shape=(n, n, 3),\n",
    "    pooling='avg'\n",
    ")\n",
    "base_model.trainable = False\n",
    "x = Flatten()(base_model.output)\n",
    "base_model.trainable = True\n",
    "# Fine-tune only the last few layers\n",
    "fine_tune_at = 100\n",
    "for layer in base_model.layers[:fine_tune_at]:\n",
    "    layer.trainable = False\n",
    "\n",
    "#base_model.trainable = True\n",
    "\n",
    "# Fine-tune only the last few layers\n",
    "\n",
    "x = Dense(300, activation='relu')(x)#, kernel_regularizer=tf.keras.regularizers.l2(0.001))(x)\n",
    "x=Dropout(0.60)(x)\n",
    "#x = Dense(100, activation='relu')(x)#, kernel_regularizer=tf.keras.regularizers.l2(0.001))(x)\n",
    "#x=Dropout(0.52)(x)\n",
    "x = Dense(27, activation='relu')(x)\n",
    "x=Dropout(0.5)(x)\n",
    "outputs = Dense(9, activation='softmax')(x)\n",
    "\n",
    "# Create the full model\n",
    "xception_model = Model(inputs=base_model.input, outputs=outputs)"
   ]
  },
  {
   "cell_type": "code",
   "execution_count": 21,
   "metadata": {
    "colab": {
     "base_uri": "https://localhost:8080/"
    },
    "id": "zAgSK9fAbp6y",
    "outputId": "a2db2800-fee9-465b-e786-8c276d14c5e1",
    "tags": []
   },
   "outputs": [
    {
     "name": "stdout",
     "output_type": "stream",
     "text": [
      "Model: \"model_1\"\n",
      "__________________________________________________________________________________________________\n",
      " Layer (type)                   Output Shape         Param #     Connected to                     \n",
      "==================================================================================================\n",
      " input_2 (InputLayer)           [(None, 220, 220, 3  0           []                               \n",
      "                                )]                                                                \n",
      "                                                                                                  \n",
      " block1_conv1 (Conv2D)          (None, 109, 109, 32  864         ['input_2[0][0]']                \n",
      "                                )                                                                 \n",
      "                                                                                                  \n",
      " block1_conv1_bn (BatchNormaliz  (None, 109, 109, 32  128        ['block1_conv1[0][0]']           \n",
      " ation)                         )                                                                 \n",
      "                                                                                                  \n",
      " block1_conv1_act (Activation)  (None, 109, 109, 32  0           ['block1_conv1_bn[0][0]']        \n",
      "                                )                                                                 \n",
      "                                                                                                  \n",
      " block1_conv2 (Conv2D)          (None, 107, 107, 64  18432       ['block1_conv1_act[0][0]']       \n",
      "                                )                                                                 \n",
      "                                                                                                  \n",
      " block1_conv2_bn (BatchNormaliz  (None, 107, 107, 64  256        ['block1_conv2[0][0]']           \n",
      " ation)                         )                                                                 \n",
      "                                                                                                  \n",
      " block1_conv2_act (Activation)  (None, 107, 107, 64  0           ['block1_conv2_bn[0][0]']        \n",
      "                                )                                                                 \n",
      "                                                                                                  \n",
      " block2_sepconv1 (SeparableConv  (None, 107, 107, 12  8768       ['block1_conv2_act[0][0]']       \n",
      " 2D)                            8)                                                                \n",
      "                                                                                                  \n",
      " block2_sepconv1_bn (BatchNorma  (None, 107, 107, 12  512        ['block2_sepconv1[0][0]']        \n",
      " lization)                      8)                                                                \n",
      "                                                                                                  \n",
      " block2_sepconv2_act (Activatio  (None, 107, 107, 12  0          ['block2_sepconv1_bn[0][0]']     \n",
      " n)                             8)                                                                \n",
      "                                                                                                  \n",
      " block2_sepconv2 (SeparableConv  (None, 107, 107, 12  17536      ['block2_sepconv2_act[0][0]']    \n",
      " 2D)                            8)                                                                \n",
      "                                                                                                  \n",
      " block2_sepconv2_bn (BatchNorma  (None, 107, 107, 12  512        ['block2_sepconv2[0][0]']        \n",
      " lization)                      8)                                                                \n",
      "                                                                                                  \n",
      " conv2d_4 (Conv2D)              (None, 54, 54, 128)  8192        ['block1_conv2_act[0][0]']       \n",
      "                                                                                                  \n",
      " block2_pool (MaxPooling2D)     (None, 54, 54, 128)  0           ['block2_sepconv2_bn[0][0]']     \n",
      "                                                                                                  \n",
      " batch_normalization_4 (BatchNo  (None, 54, 54, 128)  512        ['conv2d_4[0][0]']               \n",
      " rmalization)                                                                                     \n",
      "                                                                                                  \n",
      " add_12 (Add)                   (None, 54, 54, 128)  0           ['block2_pool[0][0]',            \n",
      "                                                                  'batch_normalization_4[0][0]']  \n",
      "                                                                                                  \n",
      " block3_sepconv1_act (Activatio  (None, 54, 54, 128)  0          ['add_12[0][0]']                 \n",
      " n)                                                                                               \n",
      "                                                                                                  \n",
      " block3_sepconv1 (SeparableConv  (None, 54, 54, 256)  33920      ['block3_sepconv1_act[0][0]']    \n",
      " 2D)                                                                                              \n",
      "                                                                                                  \n",
      " block3_sepconv1_bn (BatchNorma  (None, 54, 54, 256)  1024       ['block3_sepconv1[0][0]']        \n",
      " lization)                                                                                        \n",
      "                                                                                                  \n",
      " block3_sepconv2_act (Activatio  (None, 54, 54, 256)  0          ['block3_sepconv1_bn[0][0]']     \n",
      " n)                                                                                               \n",
      "                                                                                                  \n",
      " block3_sepconv2 (SeparableConv  (None, 54, 54, 256)  67840      ['block3_sepconv2_act[0][0]']    \n",
      " 2D)                                                                                              \n",
      "                                                                                                  \n",
      " block3_sepconv2_bn (BatchNorma  (None, 54, 54, 256)  1024       ['block3_sepconv2[0][0]']        \n",
      " lization)                                                                                        \n",
      "                                                                                                  \n",
      " conv2d_5 (Conv2D)              (None, 27, 27, 256)  32768       ['add_12[0][0]']                 \n",
      "                                                                                                  \n",
      " block3_pool (MaxPooling2D)     (None, 27, 27, 256)  0           ['block3_sepconv2_bn[0][0]']     \n",
      "                                                                                                  \n",
      " batch_normalization_5 (BatchNo  (None, 27, 27, 256)  1024       ['conv2d_5[0][0]']               \n",
      " rmalization)                                                                                     \n",
      "                                                                                                  \n",
      " add_13 (Add)                   (None, 27, 27, 256)  0           ['block3_pool[0][0]',            \n",
      "                                                                  'batch_normalization_5[0][0]']  \n",
      "                                                                                                  \n",
      " block4_sepconv1_act (Activatio  (None, 27, 27, 256)  0          ['add_13[0][0]']                 \n",
      " n)                                                                                               \n",
      "                                                                                                  \n",
      " block4_sepconv1 (SeparableConv  (None, 27, 27, 728)  188672     ['block4_sepconv1_act[0][0]']    \n",
      " 2D)                                                                                              \n",
      "                                                                                                  \n",
      " block4_sepconv1_bn (BatchNorma  (None, 27, 27, 728)  2912       ['block4_sepconv1[0][0]']        \n",
      " lization)                                                                                        \n",
      "                                                                                                  \n",
      " block4_sepconv2_act (Activatio  (None, 27, 27, 728)  0          ['block4_sepconv1_bn[0][0]']     \n",
      " n)                                                                                               \n",
      "                                                                                                  \n",
      " block4_sepconv2 (SeparableConv  (None, 27, 27, 728)  536536     ['block4_sepconv2_act[0][0]']    \n",
      " 2D)                                                                                              \n",
      "                                                                                                  \n",
      " block4_sepconv2_bn (BatchNorma  (None, 27, 27, 728)  2912       ['block4_sepconv2[0][0]']        \n",
      " lization)                                                                                        \n",
      "                                                                                                  \n",
      " conv2d_6 (Conv2D)              (None, 14, 14, 728)  186368      ['add_13[0][0]']                 \n",
      "                                                                                                  \n",
      " block4_pool (MaxPooling2D)     (None, 14, 14, 728)  0           ['block4_sepconv2_bn[0][0]']     \n",
      "                                                                                                  \n",
      " batch_normalization_6 (BatchNo  (None, 14, 14, 728)  2912       ['conv2d_6[0][0]']               \n",
      " rmalization)                                                                                     \n",
      "                                                                                                  \n",
      " add_14 (Add)                   (None, 14, 14, 728)  0           ['block4_pool[0][0]',            \n",
      "                                                                  'batch_normalization_6[0][0]']  \n",
      "                                                                                                  \n",
      " block5_sepconv1_act (Activatio  (None, 14, 14, 728)  0          ['add_14[0][0]']                 \n",
      " n)                                                                                               \n",
      "                                                                                                  \n",
      " block5_sepconv1 (SeparableConv  (None, 14, 14, 728)  536536     ['block5_sepconv1_act[0][0]']    \n",
      " 2D)                                                                                              \n",
      "                                                                                                  \n",
      " block5_sepconv1_bn (BatchNorma  (None, 14, 14, 728)  2912       ['block5_sepconv1[0][0]']        \n",
      " lization)                                                                                        \n",
      "                                                                                                  \n",
      " block5_sepconv2_act (Activatio  (None, 14, 14, 728)  0          ['block5_sepconv1_bn[0][0]']     \n",
      " n)                                                                                               \n",
      "                                                                                                  \n",
      " block5_sepconv2 (SeparableConv  (None, 14, 14, 728)  536536     ['block5_sepconv2_act[0][0]']    \n",
      " 2D)                                                                                              \n",
      "                                                                                                  \n",
      " block5_sepconv2_bn (BatchNorma  (None, 14, 14, 728)  2912       ['block5_sepconv2[0][0]']        \n",
      " lization)                                                                                        \n",
      "                                                                                                  \n",
      " block5_sepconv3_act (Activatio  (None, 14, 14, 728)  0          ['block5_sepconv2_bn[0][0]']     \n",
      " n)                                                                                               \n",
      "                                                                                                  \n",
      " block5_sepconv3 (SeparableConv  (None, 14, 14, 728)  536536     ['block5_sepconv3_act[0][0]']    \n",
      " 2D)                                                                                              \n",
      "                                                                                                  \n",
      " block5_sepconv3_bn (BatchNorma  (None, 14, 14, 728)  2912       ['block5_sepconv3[0][0]']        \n",
      " lization)                                                                                        \n",
      "                                                                                                  \n",
      " add_15 (Add)                   (None, 14, 14, 728)  0           ['block5_sepconv3_bn[0][0]',     \n",
      "                                                                  'add_14[0][0]']                 \n",
      "                                                                                                  \n",
      " block6_sepconv1_act (Activatio  (None, 14, 14, 728)  0          ['add_15[0][0]']                 \n",
      " n)                                                                                               \n",
      "                                                                                                  \n",
      " block6_sepconv1 (SeparableConv  (None, 14, 14, 728)  536536     ['block6_sepconv1_act[0][0]']    \n",
      " 2D)                                                                                              \n",
      "                                                                                                  \n",
      " block6_sepconv1_bn (BatchNorma  (None, 14, 14, 728)  2912       ['block6_sepconv1[0][0]']        \n",
      " lization)                                                                                        \n",
      "                                                                                                  \n",
      " block6_sepconv2_act (Activatio  (None, 14, 14, 728)  0          ['block6_sepconv1_bn[0][0]']     \n",
      " n)                                                                                               \n",
      "                                                                                                  \n",
      " block6_sepconv2 (SeparableConv  (None, 14, 14, 728)  536536     ['block6_sepconv2_act[0][0]']    \n",
      " 2D)                                                                                              \n",
      "                                                                                                  \n",
      " block6_sepconv2_bn (BatchNorma  (None, 14, 14, 728)  2912       ['block6_sepconv2[0][0]']        \n",
      " lization)                                                                                        \n",
      "                                                                                                  \n",
      " block6_sepconv3_act (Activatio  (None, 14, 14, 728)  0          ['block6_sepconv2_bn[0][0]']     \n",
      " n)                                                                                               \n",
      "                                                                                                  \n",
      " block6_sepconv3 (SeparableConv  (None, 14, 14, 728)  536536     ['block6_sepconv3_act[0][0]']    \n",
      " 2D)                                                                                              \n",
      "                                                                                                  \n",
      " block6_sepconv3_bn (BatchNorma  (None, 14, 14, 728)  2912       ['block6_sepconv3[0][0]']        \n",
      " lization)                                                                                        \n",
      "                                                                                                  \n",
      " add_16 (Add)                   (None, 14, 14, 728)  0           ['block6_sepconv3_bn[0][0]',     \n",
      "                                                                  'add_15[0][0]']                 \n",
      "                                                                                                  \n",
      " block7_sepconv1_act (Activatio  (None, 14, 14, 728)  0          ['add_16[0][0]']                 \n",
      " n)                                                                                               \n",
      "                                                                                                  \n",
      " block7_sepconv1 (SeparableConv  (None, 14, 14, 728)  536536     ['block7_sepconv1_act[0][0]']    \n",
      " 2D)                                                                                              \n",
      "                                                                                                  \n",
      " block7_sepconv1_bn (BatchNorma  (None, 14, 14, 728)  2912       ['block7_sepconv1[0][0]']        \n",
      " lization)                                                                                        \n",
      "                                                                                                  \n",
      " block7_sepconv2_act (Activatio  (None, 14, 14, 728)  0          ['block7_sepconv1_bn[0][0]']     \n",
      " n)                                                                                               \n",
      "                                                                                                  \n",
      " block7_sepconv2 (SeparableConv  (None, 14, 14, 728)  536536     ['block7_sepconv2_act[0][0]']    \n",
      " 2D)                                                                                              \n",
      "                                                                                                  \n",
      " block7_sepconv2_bn (BatchNorma  (None, 14, 14, 728)  2912       ['block7_sepconv2[0][0]']        \n",
      " lization)                                                                                        \n",
      "                                                                                                  \n",
      " block7_sepconv3_act (Activatio  (None, 14, 14, 728)  0          ['block7_sepconv2_bn[0][0]']     \n",
      " n)                                                                                               \n",
      "                                                                                                  \n",
      " block7_sepconv3 (SeparableConv  (None, 14, 14, 728)  536536     ['block7_sepconv3_act[0][0]']    \n",
      " 2D)                                                                                              \n",
      "                                                                                                  \n",
      " block7_sepconv3_bn (BatchNorma  (None, 14, 14, 728)  2912       ['block7_sepconv3[0][0]']        \n",
      " lization)                                                                                        \n",
      "                                                                                                  \n",
      " add_17 (Add)                   (None, 14, 14, 728)  0           ['block7_sepconv3_bn[0][0]',     \n",
      "                                                                  'add_16[0][0]']                 \n",
      "                                                                                                  \n",
      " block8_sepconv1_act (Activatio  (None, 14, 14, 728)  0          ['add_17[0][0]']                 \n",
      " n)                                                                                               \n",
      "                                                                                                  \n",
      " block8_sepconv1 (SeparableConv  (None, 14, 14, 728)  536536     ['block8_sepconv1_act[0][0]']    \n",
      " 2D)                                                                                              \n",
      "                                                                                                  \n",
      " block8_sepconv1_bn (BatchNorma  (None, 14, 14, 728)  2912       ['block8_sepconv1[0][0]']        \n",
      " lization)                                                                                        \n",
      "                                                                                                  \n",
      " block8_sepconv2_act (Activatio  (None, 14, 14, 728)  0          ['block8_sepconv1_bn[0][0]']     \n",
      " n)                                                                                               \n",
      "                                                                                                  \n",
      " block8_sepconv2 (SeparableConv  (None, 14, 14, 728)  536536     ['block8_sepconv2_act[0][0]']    \n",
      " 2D)                                                                                              \n",
      "                                                                                                  \n",
      " block8_sepconv2_bn (BatchNorma  (None, 14, 14, 728)  2912       ['block8_sepconv2[0][0]']        \n",
      " lization)                                                                                        \n",
      "                                                                                                  \n",
      " block8_sepconv3_act (Activatio  (None, 14, 14, 728)  0          ['block8_sepconv2_bn[0][0]']     \n",
      " n)                                                                                               \n",
      "                                                                                                  \n",
      " block8_sepconv3 (SeparableConv  (None, 14, 14, 728)  536536     ['block8_sepconv3_act[0][0]']    \n",
      " 2D)                                                                                              \n",
      "                                                                                                  \n",
      " block8_sepconv3_bn (BatchNorma  (None, 14, 14, 728)  2912       ['block8_sepconv3[0][0]']        \n",
      " lization)                                                                                        \n",
      "                                                                                                  \n",
      " add_18 (Add)                   (None, 14, 14, 728)  0           ['block8_sepconv3_bn[0][0]',     \n",
      "                                                                  'add_17[0][0]']                 \n",
      "                                                                                                  \n",
      " block9_sepconv1_act (Activatio  (None, 14, 14, 728)  0          ['add_18[0][0]']                 \n",
      " n)                                                                                               \n",
      "                                                                                                  \n",
      " block9_sepconv1 (SeparableConv  (None, 14, 14, 728)  536536     ['block9_sepconv1_act[0][0]']    \n",
      " 2D)                                                                                              \n",
      "                                                                                                  \n",
      " block9_sepconv1_bn (BatchNorma  (None, 14, 14, 728)  2912       ['block9_sepconv1[0][0]']        \n",
      " lization)                                                                                        \n",
      "                                                                                                  \n",
      " block9_sepconv2_act (Activatio  (None, 14, 14, 728)  0          ['block9_sepconv1_bn[0][0]']     \n",
      " n)                                                                                               \n",
      "                                                                                                  \n",
      " block9_sepconv2 (SeparableConv  (None, 14, 14, 728)  536536     ['block9_sepconv2_act[0][0]']    \n",
      " 2D)                                                                                              \n",
      "                                                                                                  \n",
      " block9_sepconv2_bn (BatchNorma  (None, 14, 14, 728)  2912       ['block9_sepconv2[0][0]']        \n",
      " lization)                                                                                        \n",
      "                                                                                                  \n",
      " block9_sepconv3_act (Activatio  (None, 14, 14, 728)  0          ['block9_sepconv2_bn[0][0]']     \n",
      " n)                                                                                               \n",
      "                                                                                                  \n",
      " block9_sepconv3 (SeparableConv  (None, 14, 14, 728)  536536     ['block9_sepconv3_act[0][0]']    \n",
      " 2D)                                                                                              \n",
      "                                                                                                  \n",
      " block9_sepconv3_bn (BatchNorma  (None, 14, 14, 728)  2912       ['block9_sepconv3[0][0]']        \n",
      " lization)                                                                                        \n",
      "                                                                                                  \n",
      " add_19 (Add)                   (None, 14, 14, 728)  0           ['block9_sepconv3_bn[0][0]',     \n",
      "                                                                  'add_18[0][0]']                 \n",
      "                                                                                                  \n",
      " block10_sepconv1_act (Activati  (None, 14, 14, 728)  0          ['add_19[0][0]']                 \n",
      " on)                                                                                              \n",
      "                                                                                                  \n",
      " block10_sepconv1 (SeparableCon  (None, 14, 14, 728)  536536     ['block10_sepconv1_act[0][0]']   \n",
      " v2D)                                                                                             \n",
      "                                                                                                  \n",
      " block10_sepconv1_bn (BatchNorm  (None, 14, 14, 728)  2912       ['block10_sepconv1[0][0]']       \n",
      " alization)                                                                                       \n",
      "                                                                                                  \n",
      " block10_sepconv2_act (Activati  (None, 14, 14, 728)  0          ['block10_sepconv1_bn[0][0]']    \n",
      " on)                                                                                              \n",
      "                                                                                                  \n",
      " block10_sepconv2 (SeparableCon  (None, 14, 14, 728)  536536     ['block10_sepconv2_act[0][0]']   \n",
      " v2D)                                                                                             \n",
      "                                                                                                  \n",
      " block10_sepconv2_bn (BatchNorm  (None, 14, 14, 728)  2912       ['block10_sepconv2[0][0]']       \n",
      " alization)                                                                                       \n",
      "                                                                                                  \n",
      " block10_sepconv3_act (Activati  (None, 14, 14, 728)  0          ['block10_sepconv2_bn[0][0]']    \n",
      " on)                                                                                              \n",
      "                                                                                                  \n",
      " block10_sepconv3 (SeparableCon  (None, 14, 14, 728)  536536     ['block10_sepconv3_act[0][0]']   \n",
      " v2D)                                                                                             \n",
      "                                                                                                  \n",
      " block10_sepconv3_bn (BatchNorm  (None, 14, 14, 728)  2912       ['block10_sepconv3[0][0]']       \n",
      " alization)                                                                                       \n",
      "                                                                                                  \n",
      " add_20 (Add)                   (None, 14, 14, 728)  0           ['block10_sepconv3_bn[0][0]',    \n",
      "                                                                  'add_19[0][0]']                 \n",
      "                                                                                                  \n",
      " block11_sepconv1_act (Activati  (None, 14, 14, 728)  0          ['add_20[0][0]']                 \n",
      " on)                                                                                              \n",
      "                                                                                                  \n",
      " block11_sepconv1 (SeparableCon  (None, 14, 14, 728)  536536     ['block11_sepconv1_act[0][0]']   \n",
      " v2D)                                                                                             \n",
      "                                                                                                  \n",
      " block11_sepconv1_bn (BatchNorm  (None, 14, 14, 728)  2912       ['block11_sepconv1[0][0]']       \n",
      " alization)                                                                                       \n",
      "                                                                                                  \n",
      " block11_sepconv2_act (Activati  (None, 14, 14, 728)  0          ['block11_sepconv1_bn[0][0]']    \n",
      " on)                                                                                              \n",
      "                                                                                                  \n",
      " block11_sepconv2 (SeparableCon  (None, 14, 14, 728)  536536     ['block11_sepconv2_act[0][0]']   \n",
      " v2D)                                                                                             \n",
      "                                                                                                  \n",
      " block11_sepconv2_bn (BatchNorm  (None, 14, 14, 728)  2912       ['block11_sepconv2[0][0]']       \n",
      " alization)                                                                                       \n",
      "                                                                                                  \n",
      " block11_sepconv3_act (Activati  (None, 14, 14, 728)  0          ['block11_sepconv2_bn[0][0]']    \n",
      " on)                                                                                              \n",
      "                                                                                                  \n",
      " block11_sepconv3 (SeparableCon  (None, 14, 14, 728)  536536     ['block11_sepconv3_act[0][0]']   \n",
      " v2D)                                                                                             \n",
      "                                                                                                  \n",
      " block11_sepconv3_bn (BatchNorm  (None, 14, 14, 728)  2912       ['block11_sepconv3[0][0]']       \n",
      " alization)                                                                                       \n",
      "                                                                                                  \n",
      " add_21 (Add)                   (None, 14, 14, 728)  0           ['block11_sepconv3_bn[0][0]',    \n",
      "                                                                  'add_20[0][0]']                 \n",
      "                                                                                                  \n",
      " block12_sepconv1_act (Activati  (None, 14, 14, 728)  0          ['add_21[0][0]']                 \n",
      " on)                                                                                              \n",
      "                                                                                                  \n",
      " block12_sepconv1 (SeparableCon  (None, 14, 14, 728)  536536     ['block12_sepconv1_act[0][0]']   \n",
      " v2D)                                                                                             \n",
      "                                                                                                  \n",
      " block12_sepconv1_bn (BatchNorm  (None, 14, 14, 728)  2912       ['block12_sepconv1[0][0]']       \n",
      " alization)                                                                                       \n",
      "                                                                                                  \n",
      " block12_sepconv2_act (Activati  (None, 14, 14, 728)  0          ['block12_sepconv1_bn[0][0]']    \n",
      " on)                                                                                              \n",
      "                                                                                                  \n",
      " block12_sepconv2 (SeparableCon  (None, 14, 14, 728)  536536     ['block12_sepconv2_act[0][0]']   \n",
      " v2D)                                                                                             \n",
      "                                                                                                  \n",
      " block12_sepconv2_bn (BatchNorm  (None, 14, 14, 728)  2912       ['block12_sepconv2[0][0]']       \n",
      " alization)                                                                                       \n",
      "                                                                                                  \n",
      " block12_sepconv3_act (Activati  (None, 14, 14, 728)  0          ['block12_sepconv2_bn[0][0]']    \n",
      " on)                                                                                              \n",
      "                                                                                                  \n",
      " block12_sepconv3 (SeparableCon  (None, 14, 14, 728)  536536     ['block12_sepconv3_act[0][0]']   \n",
      " v2D)                                                                                             \n",
      "                                                                                                  \n",
      " block12_sepconv3_bn (BatchNorm  (None, 14, 14, 728)  2912       ['block12_sepconv3[0][0]']       \n",
      " alization)                                                                                       \n",
      "                                                                                                  \n",
      " add_22 (Add)                   (None, 14, 14, 728)  0           ['block12_sepconv3_bn[0][0]',    \n",
      "                                                                  'add_21[0][0]']                 \n",
      "                                                                                                  \n",
      " block13_sepconv1_act (Activati  (None, 14, 14, 728)  0          ['add_22[0][0]']                 \n",
      " on)                                                                                              \n",
      "                                                                                                  \n",
      " block13_sepconv1 (SeparableCon  (None, 14, 14, 728)  536536     ['block13_sepconv1_act[0][0]']   \n",
      " v2D)                                                                                             \n",
      "                                                                                                  \n",
      " block13_sepconv1_bn (BatchNorm  (None, 14, 14, 728)  2912       ['block13_sepconv1[0][0]']       \n",
      " alization)                                                                                       \n",
      "                                                                                                  \n",
      " block13_sepconv2_act (Activati  (None, 14, 14, 728)  0          ['block13_sepconv1_bn[0][0]']    \n",
      " on)                                                                                              \n",
      "                                                                                                  \n",
      " block13_sepconv2 (SeparableCon  (None, 14, 14, 1024  752024     ['block13_sepconv2_act[0][0]']   \n",
      " v2D)                           )                                                                 \n",
      "                                                                                                  \n",
      " block13_sepconv2_bn (BatchNorm  (None, 14, 14, 1024  4096       ['block13_sepconv2[0][0]']       \n",
      " alization)                     )                                                                 \n",
      "                                                                                                  \n",
      " conv2d_7 (Conv2D)              (None, 7, 7, 1024)   745472      ['add_22[0][0]']                 \n",
      "                                                                                                  \n",
      " block13_pool (MaxPooling2D)    (None, 7, 7, 1024)   0           ['block13_sepconv2_bn[0][0]']    \n",
      "                                                                                                  \n",
      " batch_normalization_7 (BatchNo  (None, 7, 7, 1024)  4096        ['conv2d_7[0][0]']               \n",
      " rmalization)                                                                                     \n",
      "                                                                                                  \n",
      " add_23 (Add)                   (None, 7, 7, 1024)   0           ['block13_pool[0][0]',           \n",
      "                                                                  'batch_normalization_7[0][0]']  \n",
      "                                                                                                  \n",
      " block14_sepconv1 (SeparableCon  (None, 7, 7, 1536)  1582080     ['add_23[0][0]']                 \n",
      " v2D)                                                                                             \n",
      "                                                                                                  \n",
      " block14_sepconv1_bn (BatchNorm  (None, 7, 7, 1536)  6144        ['block14_sepconv1[0][0]']       \n",
      " alization)                                                                                       \n",
      "                                                                                                  \n",
      " block14_sepconv1_act (Activati  (None, 7, 7, 1536)  0           ['block14_sepconv1_bn[0][0]']    \n",
      " on)                                                                                              \n",
      "                                                                                                  \n",
      " block14_sepconv2 (SeparableCon  (None, 7, 7, 2048)  3159552     ['block14_sepconv1_act[0][0]']   \n",
      " v2D)                                                                                             \n",
      "                                                                                                  \n",
      " block14_sepconv2_bn (BatchNorm  (None, 7, 7, 2048)  8192        ['block14_sepconv2[0][0]']       \n",
      " alization)                                                                                       \n",
      "                                                                                                  \n",
      " block14_sepconv2_act (Activati  (None, 7, 7, 2048)  0           ['block14_sepconv2_bn[0][0]']    \n",
      " on)                                                                                              \n",
      "                                                                                                  \n",
      " global_average_pooling2d_1 (Gl  (None, 2048)        0           ['block14_sepconv2_act[0][0]']   \n",
      " obalAveragePooling2D)                                                                            \n",
      "                                                                                                  \n",
      " flatten_1 (Flatten)            (None, 2048)         0           ['global_average_pooling2d_1[0][0\n",
      "                                                                 ]']                              \n",
      "                                                                                                  \n",
      " dense_3 (Dense)                (None, 300)          614700      ['flatten_1[0][0]']              \n",
      "                                                                                                  \n",
      " dropout_2 (Dropout)            (None, 300)          0           ['dense_3[0][0]']                \n",
      "                                                                                                  \n",
      " dense_4 (Dense)                (None, 27)           8127        ['dropout_2[0][0]']              \n",
      "                                                                                                  \n",
      " dropout_3 (Dropout)            (None, 27)           0           ['dense_4[0][0]']                \n",
      "                                                                                                  \n",
      " dense_5 (Dense)                (None, 9)            252         ['dropout_3[0][0]']              \n",
      "                                                                                                  \n",
      "==================================================================================================\n",
      "Total params: 21,484,559\n",
      "Trainable params: 10,101,423\n",
      "Non-trainable params: 11,383,136\n",
      "__________________________________________________________________________________________________\n"
     ]
    }
   ],
   "source": [
    "xception_model.summary()"
   ]
  },
  {
   "cell_type": "code",
   "execution_count": 22,
   "metadata": {
    "colab": {
     "base_uri": "https://localhost:8080/"
    },
    "id": "vPCJsk68dm40",
    "outputId": "2c2d9d48-234c-4317-d64e-3cf298628979",
    "tags": []
   },
   "outputs": [],
   "source": [
    "from tensorflow.keras.optimizers import Nadam\n",
    "optimizer = Nadam(learning_rate=0.0001, beta_1=0.96, beta_2=0.998)\n",
    "xception_model.compile(optimizer=optimizer,loss='categorical_crossentropy',metrics=['accuracy'])"
   ]
  },
  {
   "cell_type": "code",
   "execution_count": 23,
   "metadata": {
    "tags": []
   },
   "outputs": [
    {
     "name": "stdout",
     "output_type": "stream",
     "text": [
      "Epoch 1/50\n",
      "107/107 [==============================] - ETA: 0s - loss: 2.0402 - accuracy: 0.2141\n",
      "Epoch 00001: val_loss improved from inf to 1.33564, saving model to best_weights7.h5\n",
      "107/107 [==============================] - 13s 85ms/step - loss: 2.0402 - accuracy: 0.2141 - val_loss: 1.3356 - val_accuracy: 0.5843\n",
      "Epoch 2/50\n",
      "106/107 [============================>.] - ETA: 0s - loss: 1.1428 - accuracy: 0.5956\n",
      "Epoch 00002: val_loss improved from 1.33564 to 0.45047, saving model to best_weights7.h5\n",
      "107/107 [==============================] - 8s 76ms/step - loss: 1.1417 - accuracy: 0.5962 - val_loss: 0.4505 - val_accuracy: 0.8823\n",
      "Epoch 3/50\n",
      "106/107 [============================>.] - ETA: 0s - loss: 0.6683 - accuracy: 0.7643\n",
      "Epoch 00003: val_loss improved from 0.45047 to 0.24926, saving model to best_weights7.h5\n",
      "107/107 [==============================] - 8s 77ms/step - loss: 0.6696 - accuracy: 0.7636 - val_loss: 0.2493 - val_accuracy: 0.9404\n",
      "Epoch 4/50\n",
      "106/107 [============================>.] - ETA: 0s - loss: 0.4703 - accuracy: 0.8263\n",
      "Epoch 00004: val_loss improved from 0.24926 to 0.17446, saving model to best_weights7.h5\n",
      "107/107 [==============================] - 8s 77ms/step - loss: 0.4717 - accuracy: 0.8260 - val_loss: 0.1745 - val_accuracy: 0.9535\n",
      "Epoch 5/50\n",
      "106/107 [============================>.] - ETA: 0s - loss: 0.3718 - accuracy: 0.8624\n",
      "Epoch 00005: val_loss did not improve from 0.17446\n",
      "107/107 [==============================] - 8s 72ms/step - loss: 0.3737 - accuracy: 0.8621 - val_loss: 0.2057 - val_accuracy: 0.9404\n",
      "Epoch 6/50\n",
      "106/107 [============================>.] - ETA: 0s - loss: 0.2963 - accuracy: 0.8890\n",
      "Epoch 00006: val_loss did not improve from 0.17446\n",
      "107/107 [==============================] - 8s 72ms/step - loss: 0.2964 - accuracy: 0.8889 - val_loss: 0.1918 - val_accuracy: 0.9535\n",
      "Epoch 7/50\n",
      "106/107 [============================>.] - ETA: 0s - loss: 0.2436 - accuracy: 0.9064\n",
      "Epoch 00007: val_loss did not improve from 0.17446\n",
      "107/107 [==============================] - 8s 72ms/step - loss: 0.2434 - accuracy: 0.9065 - val_loss: 0.1848 - val_accuracy: 0.9622\n",
      "Epoch 8/50\n",
      "106/107 [============================>.] - ETA: 0s - loss: 0.1996 - accuracy: 0.9261\n",
      "Epoch 00008: val_loss did not improve from 0.17446\n",
      "107/107 [==============================] - 8s 72ms/step - loss: 0.1998 - accuracy: 0.9260 - val_loss: 0.1913 - val_accuracy: 0.9549\n",
      "Epoch 9/50\n",
      "106/107 [============================>.] - ETA: 0s - loss: 0.1891 - accuracy: 0.9293\n",
      "Epoch 00009: val_loss did not improve from 0.17446\n",
      "107/107 [==============================] - 8s 71ms/step - loss: 0.1890 - accuracy: 0.9293 - val_loss: 0.1962 - val_accuracy: 0.9578\n",
      "Epoch 10/50\n",
      "106/107 [============================>.] - ETA: 0s - loss: 0.1580 - accuracy: 0.9422\n",
      "Epoch 00010: val_loss did not improve from 0.17446\n",
      "107/107 [==============================] - 8s 72ms/step - loss: 0.1598 - accuracy: 0.9421 - val_loss: 0.2257 - val_accuracy: 0.9608\n",
      "Epoch 11/50\n",
      "106/107 [============================>.] - ETA: 0s - loss: 0.1455 - accuracy: 0.9440\n",
      "Epoch 00011: val_loss improved from 0.17446 to 0.16306, saving model to best_weights7.h5\n",
      "107/107 [==============================] - 8s 76ms/step - loss: 0.1458 - accuracy: 0.9440 - val_loss: 0.1631 - val_accuracy: 0.9680\n",
      "Epoch 12/50\n",
      "106/107 [============================>.] - ETA: 0s - loss: 0.1329 - accuracy: 0.9514\n",
      "Epoch 00012: val_loss did not improve from 0.16306\n",
      "107/107 [==============================] - 8s 72ms/step - loss: 0.1331 - accuracy: 0.9512 - val_loss: 0.1799 - val_accuracy: 0.9695\n",
      "Epoch 13/50\n",
      "106/107 [============================>.] - ETA: 0s - loss: 0.1283 - accuracy: 0.9528\n",
      "Epoch 00013: val_loss did not improve from 0.16306\n",
      "107/107 [==============================] - 8s 72ms/step - loss: 0.1282 - accuracy: 0.9529 - val_loss: 0.1702 - val_accuracy: 0.9724\n",
      "Epoch 14/50\n",
      "106/107 [============================>.] - ETA: 0s - loss: 0.1161 - accuracy: 0.9544\n",
      "Epoch 00014: val_loss did not improve from 0.16306\n",
      "107/107 [==============================] - 8s 72ms/step - loss: 0.1160 - accuracy: 0.9543 - val_loss: 0.2789 - val_accuracy: 0.9593\n",
      "Epoch 15/50\n",
      "106/107 [============================>.] - ETA: 0s - loss: 0.1167 - accuracy: 0.9546\n",
      "Epoch 00015: val_loss did not improve from 0.16306\n",
      "107/107 [==============================] - 8s 72ms/step - loss: 0.1167 - accuracy: 0.9547 - val_loss: 0.2459 - val_accuracy: 0.9593\n",
      "Epoch 16/50\n",
      "106/107 [============================>.] - ETA: 0s - loss: 0.1124 - accuracy: 0.9592\n",
      "Epoch 00016: val_loss did not improve from 0.16306\n",
      "107/107 [==============================] - 8s 72ms/step - loss: 0.1125 - accuracy: 0.9590 - val_loss: 0.1974 - val_accuracy: 0.9695\n",
      "Epoch 17/50\n",
      "106/107 [============================>.] - ETA: 0s - loss: 0.1160 - accuracy: 0.9550\n",
      "Epoch 00017: val_loss did not improve from 0.16306\n",
      "107/107 [==============================] - 8s 72ms/step - loss: 0.1161 - accuracy: 0.9550 - val_loss: 0.2464 - val_accuracy: 0.9622\n",
      "Epoch 18/50\n",
      "106/107 [============================>.] - ETA: 0s - loss: 0.1014 - accuracy: 0.9632\n",
      "Epoch 00018: val_loss did not improve from 0.16306\n",
      "107/107 [==============================] - 8s 72ms/step - loss: 0.1015 - accuracy: 0.9631 - val_loss: 0.2358 - val_accuracy: 0.9680\n",
      "Epoch 19/50\n",
      "106/107 [============================>.] - ETA: 0s - loss: 0.0947 - accuracy: 0.9621\n",
      "Epoch 00019: val_loss did not improve from 0.16306\n",
      "107/107 [==============================] - 8s 72ms/step - loss: 0.0948 - accuracy: 0.9620 - val_loss: 0.2435 - val_accuracy: 0.9680\n",
      "Epoch 20/50\n",
      "106/107 [============================>.] - ETA: 0s - loss: 0.0941 - accuracy: 0.9602\n",
      "Epoch 00020: val_loss did not improve from 0.16306\n",
      "107/107 [==============================] - 8s 72ms/step - loss: 0.0943 - accuracy: 0.9601 - val_loss: 0.2145 - val_accuracy: 0.9724\n",
      "Epoch 21/50\n",
      "106/107 [============================>.] - ETA: 0s - loss: 0.0883 - accuracy: 0.9651\n",
      "Epoch 00021: val_loss did not improve from 0.16306\n",
      "107/107 [==============================] - 8s 72ms/step - loss: 0.0892 - accuracy: 0.9649 - val_loss: 0.2000 - val_accuracy: 0.9724\n",
      "Epoch 22/50\n",
      "106/107 [============================>.] - ETA: 0s - loss: 0.0924 - accuracy: 0.9641\n",
      "Epoch 00022: val_loss did not improve from 0.16306\n",
      "107/107 [==============================] - 8s 72ms/step - loss: 0.0930 - accuracy: 0.9638 - val_loss: 0.2229 - val_accuracy: 0.9695\n",
      "Epoch 23/50\n",
      "106/107 [============================>.] - ETA: 0s - loss: 0.0823 - accuracy: 0.9672\n",
      "Epoch 00023: val_loss did not improve from 0.16306\n",
      "107/107 [==============================] - 8s 72ms/step - loss: 0.0831 - accuracy: 0.9669 - val_loss: 0.2138 - val_accuracy: 0.9738\n",
      "Epoch 24/50\n",
      "106/107 [============================>.] - ETA: 0s - loss: 0.0864 - accuracy: 0.9678\n",
      "Epoch 00024: val_loss did not improve from 0.16306\n",
      "107/107 [==============================] - 8s 72ms/step - loss: 0.0864 - accuracy: 0.9678 - val_loss: 0.2553 - val_accuracy: 0.9637\n",
      "Epoch 25/50\n",
      "106/107 [============================>.] - ETA: 0s - loss: 0.0788 - accuracy: 0.9732\n",
      "Epoch 00025: val_loss did not improve from 0.16306\n",
      "107/107 [==============================] - 8s 72ms/step - loss: 0.0788 - accuracy: 0.9733 - val_loss: 0.2239 - val_accuracy: 0.9680\n",
      "Epoch 26/50\n",
      "106/107 [============================>.] - ETA: 0s - loss: 0.0920 - accuracy: 0.9692\n",
      "Epoch 00026: val_loss did not improve from 0.16306\n",
      "107/107 [==============================] - 8s 72ms/step - loss: 0.0920 - accuracy: 0.9692 - val_loss: 0.2960 - val_accuracy: 0.9622\n",
      "Epoch 27/50\n",
      "106/107 [============================>.] - ETA: 0s - loss: 0.0737 - accuracy: 0.9730\n",
      "Epoch 00027: val_loss did not improve from 0.16306\n",
      "107/107 [==============================] - 8s 72ms/step - loss: 0.0736 - accuracy: 0.9730 - val_loss: 0.1976 - val_accuracy: 0.9651\n",
      "Epoch 28/50\n",
      "106/107 [============================>.] - ETA: 0s - loss: 0.0697 - accuracy: 0.9712\n",
      "Epoch 00028: val_loss did not improve from 0.16306\n",
      "107/107 [==============================] - 8s 72ms/step - loss: 0.0698 - accuracy: 0.9712 - val_loss: 0.2237 - val_accuracy: 0.9680\n",
      "Epoch 29/50\n",
      "106/107 [============================>.] - ETA: 0s - loss: 0.0634 - accuracy: 0.9756\n",
      "Epoch 00029: val_loss did not improve from 0.16306\n",
      "107/107 [==============================] - 8s 72ms/step - loss: 0.0647 - accuracy: 0.9754 - val_loss: 0.2572 - val_accuracy: 0.9695\n",
      "Epoch 30/50\n",
      "106/107 [============================>.] - ETA: 0s - loss: 0.0712 - accuracy: 0.9734\n",
      "Epoch 00030: val_loss did not improve from 0.16306\n",
      "107/107 [==============================] - 8s 72ms/step - loss: 0.0712 - accuracy: 0.9733 - val_loss: 0.2841 - val_accuracy: 0.9709\n",
      "Epoch 31/50\n",
      "106/107 [============================>.] - ETA: 0s - loss: 0.0683 - accuracy: 0.9732\n",
      "Epoch 00031: val_loss did not improve from 0.16306\n",
      "107/107 [==============================] - 8s 72ms/step - loss: 0.0687 - accuracy: 0.9732 - val_loss: 0.3509 - val_accuracy: 0.9622\n",
      "Epoch 32/50\n",
      "106/107 [============================>.] - ETA: 0s - loss: 0.0779 - accuracy: 0.9712\n",
      "Epoch 00032: val_loss did not improve from 0.16306\n",
      "107/107 [==============================] - 8s 72ms/step - loss: 0.0778 - accuracy: 0.9712 - val_loss: 0.2060 - val_accuracy: 0.9753\n",
      "Epoch 33/50\n",
      "106/107 [============================>.] - ETA: 0s - loss: 0.0638 - accuracy: 0.9762\n",
      "Epoch 00033: val_loss did not improve from 0.16306\n",
      "107/107 [==============================] - 8s 72ms/step - loss: 0.0637 - accuracy: 0.9763 - val_loss: 0.2755 - val_accuracy: 0.9666\n",
      "Epoch 34/50\n",
      "106/107 [============================>.] - ETA: 0s - loss: 0.0566 - accuracy: 0.9782\n",
      "Epoch 00034: val_loss did not improve from 0.16306\n",
      "107/107 [==============================] - 8s 72ms/step - loss: 0.0568 - accuracy: 0.9781 - val_loss: 0.2909 - val_accuracy: 0.9666\n",
      "Epoch 35/50\n",
      "106/107 [============================>.] - ETA: 0s - loss: 0.0577 - accuracy: 0.9774\n",
      "Epoch 00035: val_loss did not improve from 0.16306\n",
      "107/107 [==============================] - 8s 71ms/step - loss: 0.0578 - accuracy: 0.9773 - val_loss: 0.2260 - val_accuracy: 0.9724\n",
      "Epoch 36/50\n",
      "106/107 [============================>.] - ETA: 0s - loss: 0.0572 - accuracy: 0.9782\n",
      "Epoch 00036: val_loss did not improve from 0.16306\n",
      "107/107 [==============================] - 8s 71ms/step - loss: 0.0577 - accuracy: 0.9781 - val_loss: 0.2730 - val_accuracy: 0.9695\n",
      "Epoch 37/50\n",
      "106/107 [============================>.] - ETA: 0s - loss: 0.0694 - accuracy: 0.9732\n",
      "Epoch 00037: val_loss did not improve from 0.16306\n",
      "107/107 [==============================] - 8s 72ms/step - loss: 0.0693 - accuracy: 0.9733 - val_loss: 0.3142 - val_accuracy: 0.9637\n",
      "Epoch 38/50\n",
      "106/107 [============================>.] - ETA: 0s - loss: 0.0617 - accuracy: 0.9762\n",
      "Epoch 00038: val_loss did not improve from 0.16306\n",
      "107/107 [==============================] - 8s 72ms/step - loss: 0.0616 - accuracy: 0.9763 - val_loss: 0.2357 - val_accuracy: 0.9724\n",
      "Epoch 39/50\n",
      "106/107 [============================>.] - ETA: 0s - loss: 0.0596 - accuracy: 0.9792\n",
      "Epoch 00039: val_loss did not improve from 0.16306\n",
      "107/107 [==============================] - 8s 72ms/step - loss: 0.0596 - accuracy: 0.9792 - val_loss: 0.2440 - val_accuracy: 0.9709\n",
      "Epoch 40/50\n",
      "106/107 [============================>.] - ETA: 0s - loss: 0.0510 - accuracy: 0.9804\n",
      "Epoch 00040: val_loss did not improve from 0.16306\n",
      "107/107 [==============================] - 8s 72ms/step - loss: 0.0522 - accuracy: 0.9803 - val_loss: 0.2632 - val_accuracy: 0.9680\n",
      "Epoch 41/50\n",
      "106/107 [============================>.] - ETA: 0s - loss: 0.0773 - accuracy: 0.9748\n",
      "Epoch 00041: val_loss did not improve from 0.16306\n",
      "107/107 [==============================] - 8s 72ms/step - loss: 0.0772 - accuracy: 0.9748 - val_loss: 0.2114 - val_accuracy: 0.9680\n",
      "Epoch 42/50\n",
      "106/107 [============================>.] - ETA: 0s - loss: 0.0565 - accuracy: 0.9797\n",
      "Epoch 00042: val_loss did not improve from 0.16306\n",
      "107/107 [==============================] - 8s 72ms/step - loss: 0.0564 - accuracy: 0.9797 - val_loss: 0.1822 - val_accuracy: 0.9782\n",
      "Epoch 43/50\n",
      "106/107 [============================>.] - ETA: 0s - loss: 0.0565 - accuracy: 0.9776\n",
      "Epoch 00043: val_loss did not improve from 0.16306\n",
      "107/107 [==============================] - 8s 72ms/step - loss: 0.0569 - accuracy: 0.9774 - val_loss: 0.1929 - val_accuracy: 0.9753\n",
      "Epoch 44/50\n",
      "106/107 [============================>.] - ETA: 0s - loss: 0.0668 - accuracy: 0.9774\n",
      "Epoch 00044: val_loss did not improve from 0.16306\n",
      "107/107 [==============================] - 8s 72ms/step - loss: 0.0666 - accuracy: 0.9774 - val_loss: 0.2155 - val_accuracy: 0.9709\n",
      "Epoch 45/50\n",
      "106/107 [============================>.] - ETA: 0s - loss: 0.0611 - accuracy: 0.9780\n",
      "Epoch 00045: val_loss did not improve from 0.16306\n",
      "107/107 [==============================] - 8s 72ms/step - loss: 0.0610 - accuracy: 0.9781 - val_loss: 0.2070 - val_accuracy: 0.9724\n",
      "Epoch 46/50\n",
      "106/107 [============================>.] - ETA: 0s - loss: 0.0539 - accuracy: 0.9800\n",
      "Epoch 00046: val_loss did not improve from 0.16306\n",
      "107/107 [==============================] - 8s 72ms/step - loss: 0.0538 - accuracy: 0.9800 - val_loss: 0.1836 - val_accuracy: 0.9767\n",
      "Epoch 47/50\n",
      "106/107 [============================>.] - ETA: 0s - loss: 0.0538 - accuracy: 0.9788\n",
      "Epoch 00047: val_loss did not improve from 0.16306\n",
      "107/107 [==============================] - 8s 72ms/step - loss: 0.0537 - accuracy: 0.9788 - val_loss: 0.3160 - val_accuracy: 0.9651\n",
      "Epoch 48/50\n",
      "106/107 [============================>.] - ETA: 0s - loss: 0.0512 - accuracy: 0.9801\n",
      "Epoch 00048: val_loss did not improve from 0.16306\n",
      "107/107 [==============================] - 8s 72ms/step - loss: 0.0513 - accuracy: 0.9800 - val_loss: 0.2506 - val_accuracy: 0.9724\n",
      "Epoch 49/50\n",
      "106/107 [============================>.] - ETA: 0s - loss: 0.0517 - accuracy: 0.9832\n",
      "Epoch 00049: val_loss did not improve from 0.16306\n",
      "107/107 [==============================] - 8s 72ms/step - loss: 0.0517 - accuracy: 0.9832 - val_loss: 0.2915 - val_accuracy: 0.9695\n",
      "Epoch 50/50\n",
      "106/107 [============================>.] - ETA: 0s - loss: 0.0507 - accuracy: 0.9818\n",
      "Epoch 00050: val_loss did not improve from 0.16306\n",
      "107/107 [==============================] - 8s 72ms/step - loss: 0.0507 - accuracy: 0.9818 - val_loss: 0.2588 - val_accuracy: 0.9738\n"
     ]
    }
   ],
   "source": [
    "from tensorflow.keras.callbacks import ModelCheckpoint\n",
    "import os\n",
    "import tensorflow as tf\n",
    "from tensorflow.keras.callbacks import ModelCheckpoint, EarlyStopping\n",
    "# Define a checkpoint callback\n",
    "checkpoint_path = 'best_weights7.h5'\n",
    "checkpoint_dir = os.path.dirname(checkpoint_path)\n",
    "cp_callback = ModelCheckpoint(filepath=checkpoint_path, \n",
    "                             monitor='val_loss',  # Monitor validation loss\n",
    "                             save_best_only=True,  # Save only the best model\n",
    "                             mode='min',  # Save when validation loss improves\n",
    "                             verbose=1)  # Show messages about the saving process\n",
    "epochs=50\n",
    "batch_size = 73\n",
    "# Train the model with the callback\n",
    "history = xception_model.fit(data.batch(batch_size),\n",
    "                             epochs=epochs,\n",
    "                             validation_data=mycutdata.batch(batch_size),\n",
    "                             callbacks=[cp_callback])\n"
   ]
  },
  {
   "cell_type": "markdown",
   "metadata": {
    "tags": []
   },
   "source": [
    "# cheking the effect of threshold"
   ]
  },
  {
   "cell_type": "code",
   "execution_count": 24,
   "metadata": {
    "tags": []
   },
   "outputs": [
    {
     "name": "stdout",
     "output_type": "stream",
     "text": [
      "Accuracy with threshold 0.8: 0.9680232558139535\n"
     ]
    }
   ],
   "source": [
    "threshold = 0.8  # Define your threshold value\n",
    "\n",
    "# Evaluate the model while applying the threshold\n",
    "total_samples = 0\n",
    "correct_samples = 0\n",
    "\n",
    "for batch in mycutdata.batch(batch_size):\n",
    "    images, labels = batch\n",
    "    predictions = xception_model.predict(images)\n",
    "\n",
    "    for i in range(len(predictions)):\n",
    "        predicted_class = np.argmax(predictions[i])\n",
    "        max_probability = np.max(predictions[i])\n",
    "\n",
    "        if max_probability >= threshold:\n",
    "            total_samples += 1\n",
    "            if predicted_class == np.argmax(labels[i]):\n",
    "                correct_samples += 1\n",
    "        else:\n",
    "            # If prediction is uncertain, mark it as mislabeled\n",
    "            total_samples += 1\n",
    "\n",
    "accuracy_with_threshold = correct_samples / total_samples if total_samples > 0 else 0\n",
    "\n",
    "print(f\"Accuracy with threshold {threshold}: {accuracy_with_threshold}\")"
   ]
  },
  {
   "cell_type": "markdown",
   "metadata": {
    "id": "ggs5y5NcgcAH"
   },
   "source": [
    "# Evaluating The Model"
   ]
  },
  {
   "cell_type": "code",
   "execution_count": 25,
   "metadata": {
    "colab": {
     "base_uri": "https://localhost:8080/",
     "height": 295
    },
    "id": "vAjGo1SvePCE",
    "outputId": "32bfd363-8d7d-4233-eb3d-37a94cbc8ad0",
    "tags": []
   },
   "outputs": [
    {
     "data": {
      "image/png": "[encoded data removed]",
      "text/plain": [
       "<Figure size 432x288 with 1 Axes>"
      ]
     },
     "metadata": {
      "needs_background": "light"
     },
     "output_type": "display_data"
    }
   ],
   "source": [
    "fig1 = plt.gcf()\n",
    "plt.plot(history.history['accuracy'])\n",
    "plt.plot(history.history['val_accuracy'])\n",
    "plt.axis(ymin=0.4,ymax=1)\n",
    "plt.grid()\n",
    "plt.title('Model Accuracy')\n",
    "plt.ylabel('Accuracy')\n",
    "plt.xlabel('Epochs')\n",
    "plt.legend(['train', 'validation'])\n",
    "plt.show()"
   ]
  },
  {
   "cell_type": "code",
   "execution_count": 26,
   "metadata": {
    "colab": {
     "base_uri": "https://localhost:8080/",
     "height": 295
    },
    "id": "rEUy8LNOeCVF",
    "outputId": "d697bf6d-4c44-4011-873a-7b38838c39c9",
    "tags": []
   },
   "outputs": [
    {
     "data": {
      "image/png": "[encoded data removed]",
      "text/plain": [
       "<Figure size 432x288 with 1 Axes>"
      ]
     },
     "metadata": {
      "needs_background": "light"
     },
     "output_type": "display_data"
    }
   ],
   "source": [
    "plt.plot(history.history['loss'])\n",
    "plt.plot(history.history['val_loss'])\n",
    "plt.grid()\n",
    "plt.title('Model Loss')\n",
    "plt.ylabel('Loss')\n",
    "plt.xlabel('Epochs')\n",
    "plt.legend(['train', 'validation'])\n",
    "plt.show()"
   ]
  },
  {
   "cell_type": "code",
   "execution_count": null,
   "metadata": {},
   "outputs": [],
   "source": []
  }
 ],
 "metadata": {
  "accelerator": "GPU",
  "colab": {
   "name": "ResNet-50.ipynb",
   "provenance": []
  },
  "kernelspec": {
   "display_name": "Python 3 (ipykernel)",
   "language": "python",
   "name": "python3"
  },
  "language_info": {
   "codemirror_mode": {
    "name": "ipython",
    "version": 3
   },
   "file_extension": ".py",
   "mimetype": "text/x-python",
   "name": "python",
   "nbconvert_exporter": "python",
   "pygments_lexer": "ipython3",
   "version": "3.10.12"
  }
 },
 "nbformat": 4,
 "nbformat_minor": 4
}
