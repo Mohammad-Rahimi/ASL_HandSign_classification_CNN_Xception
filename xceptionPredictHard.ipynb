{
 "cells": [
  {
   "cell_type": "code",
   "execution_count": 32,
   "metadata": {
    "id": "0YBEz670Nnmv"
   },
   "outputs": [],
   "source": [
    "import matplotlib.pyplot as plt\n",
    "import numpy as np\n",
    "import os\n",
    "import PIL\n",
    "import tensorflow as tf\n",
    "from tensorflow import keras\n",
    "from tensorflow.keras import layers\n",
    "from tensorflow.python.keras.layers import Dense, Flatten\n",
    "from tensorflow.keras.models import Sequential\n",
    "from tensorflow.keras.optimizers import Adam\n",
    "import numpy as np\n",
    "import tensorflow_datasets as tfds\n",
    "import tensorflow as tf\n",
    "import matplotlib.pyplot as plt;\n",
    "from tensorflow.keras.utils import to_categorical\n",
    "from tensorflow.keras.applications import Xception\n",
    "from tensorflow.keras.applications.xception import preprocess_input, decode_predictions\n",
    "from tensorflow.keras.preprocessing import image\n",
    "from tensorflow.keras import layers, models\n",
    "from tensorflow.keras.callbacks import EarlyStopping\n",
    "from tensorflow.keras.models import Sequential\n",
    "import os as os\n",
    "import cv2"
   ]
  },
  {
   "cell_type": "code",
   "execution_count": 33,
   "metadata": {},
   "outputs": [],
   "source": [
    "import numpy as np\n",
    "import numpy.random as npr\n",
    "import matplotlib.pyplot as plt\n",
    "%matplotlib inline\n",
    "plt.style.use('bmh')"
   ]
  },
  {
   "cell_type": "markdown",
   "metadata": {
    "id": "Ir0q0GyfgmSI"
   },
   "source": [
    "# Preparing The Data"
   ]
  },
  {
   "cell_type": "markdown",
   "metadata": {},
   "source": [
    "### load you data here"
   ]
  },
  {
   "cell_type": "code",
   "execution_count": 34,
   "metadata": {},
   "outputs": [],
   "source": [
    "#data:\n",
    "data = np.load('Copy of data_hard_test.npy')\n",
    "#labels:\n",
    "labelss = np.load('Copy of labels_hard_test.npy')\n"
   ]
  },
  {
   "cell_type": "code",
   "execution_count": 35,
   "metadata": {},
   "outputs": [
    {
     "data": {
      "text/plain": [
       "(2544, 1)"
      ]
     },
     "execution_count": 35,
     "metadata": {},
     "output_type": "execute_result"
    }
   ],
   "source": [
    "labelss.shape"
   ]
  },
  {
   "cell_type": "code",
   "execution_count": 36,
   "metadata": {
    "tags": []
   },
   "outputs": [],
   "source": [
    "nn=data.shape[1]"
   ]
  },
  {
   "cell_type": "code",
   "execution_count": 37,
   "metadata": {
    "tags": []
   },
   "outputs": [],
   "source": [
    "n=220\n",
    "data = data.T;\n",
    "data = data.reshape(nn,300,300,3)"
   ]
  },
  {
   "cell_type": "code",
   "execution_count": 38,
   "metadata": {
    "tags": []
   },
   "outputs": [],
   "source": [
    "data = tf.keras.layers.Resizing(n, n)(data)"
   ]
  },
  {
   "cell_type": "code",
   "execution_count": 39,
   "metadata": {
    "colab": {
     "base_uri": "https://localhost:8080/"
    },
    "id": "m2SdFPT6cpAi",
    "outputId": "bbceb15b-9425-42dd-8920-4ff7f39dd900"
   },
   "outputs": [],
   "source": [
    "labels = to_categorical(labelss,num_classes=9)"
   ]
  },
  {
   "cell_type": "code",
   "execution_count": 40,
   "metadata": {},
   "outputs": [],
   "source": [
    "data = np.array(data)"
   ]
  },
  {
   "cell_type": "code",
   "execution_count": 41,
   "metadata": {},
   "outputs": [],
   "source": [
    "data=data/255"
   ]
  },
  {
   "cell_type": "code",
   "execution_count": 42,
   "metadata": {
    "colab": {
     "base_uri": "https://localhost:8080/"
    },
    "id": "VA-1Jqlscs-Y",
    "outputId": "78953fea-175e-403f-83a7-bf40c5cf0203"
   },
   "outputs": [],
   "source": [
    "data = tf.data.Dataset.from_tensor_slices((data, labels))"
   ]
  },
  {
   "cell_type": "markdown",
   "metadata": {
    "id": "jK5tHnEpggbu"
   },
   "source": [
    "# Loading the weights\n"
   ]
  },
  {
   "cell_type": "code",
   "execution_count": 43,
   "metadata": {
    "tags": []
   },
   "outputs": [],
   "source": [
    "from tensorflow.keras.layers import Input, Flatten, Dense\n",
    "from tensorflow.keras.models import Model\n",
    "import tensorflow as tf\n",
    "from tensorflow.keras.callbacks import ReduceLROnPlateau\n",
    "from tensorflow.keras.layers import Dropout\n",
    " \n",
    "lr_scheduler = ReduceLROnPlateau(\n",
    "    monitor='val_loss',  # You can also use 'val_accuracy' or other metrics\n",
    "    factor=0.2,           # Factor by which the learning rate will be reduced\n",
    "    patience=6,          # Number of epochs with no improvement after which learning rate will be reduced\n",
    "    min_lr=1e-6           # Lower bound on the learning rate\n",
    ")\n",
    "\n",
    "# Create the Xception base model\n",
    "base_model = tf.keras.applications.Xception(\n",
    "    include_top=False,\n",
    "    weights=\"imagenet\",\n",
    "    input_shape=(n, n, 3),\n",
    "    pooling='avg'\n",
    ")\n",
    "base_model.trainable = False\n",
    "x = Flatten()(base_model.output)\n",
    "base_model.trainable = True\n",
    "# Fine-tune only the last few layers\n",
    "fine_tune_at = 100\n",
    "for layer in base_model.layers[:fine_tune_at]:\n",
    "    layer.trainable = False\n",
    "\n",
    "#base_model.trainable = True\n",
    "\n",
    "# Fine-tune only the last few layers\n",
    "\n",
    "x = Dense(300, activation='relu')(x)#, kernel_regularizer=tf.keras.regularizers.l2(0.001))(x)\n",
    "x=Dropout(0.60)(x)\n",
    "#x = Dense(100, activation='relu')(x)#, kernel_regularizer=tf.keras.regularizers.l2(0.001))(x)\n",
    "#x=Dropout(0.52)(x)\n",
    "x = Dense(27, activation='relu')(x)\n",
    "x=Dropout(0.5)(x)\n",
    "outputs = Dense(9, activation='softmax')(x)\n",
    "\n",
    "# Create the full model\n",
    "xception_model = Model(inputs=base_model.input, outputs=outputs)\n",
    "xception_model.load_weights('best_weights7.h5')"
   ]
  },
  {
   "cell_type": "code",
   "execution_count": 44,
   "metadata": {
    "colab": {
     "base_uri": "https://localhost:8080/"
    },
    "id": "vPCJsk68dm40",
    "outputId": "2c2d9d48-234c-4317-d64e-3cf298628979"
   },
   "outputs": [],
   "source": [
    "from tensorflow.keras.optimizers import Nadam\n",
    "optimizer = Nadam(learning_rate=0.0001, beta_1=0.96, beta_2=0.998)\n",
    "xception_model.compile(optimizer=optimizer,loss='categorical_crossentropy',metrics=['accuracy'])\n",
    "batch_size=73"
   ]
  },
  {
   "cell_type": "markdown",
   "metadata": {},
   "source": [
    "# Making Predictions"
   ]
  },
  {
   "cell_type": "markdown",
   "metadata": {},
   "source": [
    "## evaluating the effect of threshold"
   ]
  },
  {
   "cell_type": "code",
   "execution_count": 45,
   "metadata": {
    "id": "SLbvPRHXgHGO"
   },
   "outputs": [
    {
     "name": "stdout",
     "output_type": "stream",
     "text": [
      "3/3 [==============================] - 2s 394ms/step\n",
      "3/3 [==============================] - 1s 388ms/step\n",
      "3/3 [==============================] - 1s 389ms/step\n",
      "3/3 [==============================] - 1s 399ms/step\n",
      "3/3 [==============================] - 1s 404ms/step\n",
      "3/3 [==============================] - 1s 407ms/step\n",
      "3/3 [==============================] - 1s 395ms/step\n",
      "3/3 [==============================] - 1s 387ms/step\n",
      "3/3 [==============================] - 1s 393ms/step\n",
      "3/3 [==============================] - 1s 394ms/step\n",
      "3/3 [==============================] - 1s 409ms/step\n",
      "3/3 [==============================] - 1s 407ms/step\n",
      "3/3 [==============================] - 1s 395ms/step\n",
      "3/3 [==============================] - 1s 395ms/step\n",
      "3/3 [==============================] - 1s 396ms/step\n",
      "3/3 [==============================] - 1s 395ms/step\n",
      "3/3 [==============================] - 1s 387ms/step\n",
      "3/3 [==============================] - 1s 405ms/step\n",
      "3/3 [==============================] - 1s 390ms/step\n",
      "3/3 [==============================] - 1s 395ms/step\n",
      "3/3 [==============================] - 1s 397ms/step\n",
      "3/3 [==============================] - 1s 390ms/step\n",
      "3/3 [==============================] - 1s 401ms/step\n",
      "3/3 [==============================] - 1s 390ms/step\n",
      "3/3 [==============================] - 1s 400ms/step\n",
      "3/3 [==============================] - 1s 400ms/step\n",
      "3/3 [==============================] - 1s 396ms/step\n",
      "3/3 [==============================] - 1s 387ms/step\n",
      "3/3 [==============================] - 1s 398ms/step\n",
      "3/3 [==============================] - 1s 387ms/step\n",
      "3/3 [==============================] - 1s 408ms/step\n",
      "3/3 [==============================] - 1s 396ms/step\n",
      "3/3 [==============================] - 1s 388ms/step\n",
      "3/3 [==============================] - 1s 395ms/step\n",
      "2/2 [==============================] - 1s 567ms/step\n",
      "Accuracy with threshold 0.8 mislabeled excluded : 0.8042553191489362\n",
      "Accuracy with threshold 0.8 mislabeled included : 0.5200471698113207\n"
     ]
    }
   ],
   "source": [
    "threshold = 0.8  # Define your threshold value\n",
    "\n",
    "# Evaluate the model while applying the threshold\n",
    "total_samples = 0\n",
    "correct_samples = 0\n",
    "\n",
    "for batch in data.batch(batch_size):\n",
    "    images, labels = batch\n",
    "    predictions = xception_model.predict(images)\n",
    "\n",
    "    for i in range(len(predictions)):\n",
    "        predicted_class = np.argmax(predictions[i])\n",
    "        max_probability = np.max(predictions[i])\n",
    "\n",
    "        if max_probability >= threshold:\n",
    "            total_samples += 1\n",
    "            if predicted_class == np.argmax(labels[i]):\n",
    "                correct_samples += 1\n",
    "        \n",
    "\n",
    "accuracy_with_threshold = correct_samples / total_samples if total_samples > 0 else 0\n",
    "accuracy_with_threshold_alldata = correct_samples / nn \n",
    "\n",
    "print(f\"Accuracy with threshold {threshold} mislabeled excluded : {accuracy_with_threshold}\")\n",
    "print(f\"Accuracy with threshold {threshold} mislabeled included : {accuracy_with_threshold_alldata}\")"
   ]
  },
  {
   "cell_type": "markdown",
   "metadata": {},
   "source": [
    "## Updating predicted labels (unrecognized data are labeled as -1)"
   ]
  },
  {
   "cell_type": "code",
   "execution_count": 46,
   "metadata": {},
   "outputs": [
    {
     "name": "stdout",
     "output_type": "stream",
     "text": [
      "3/3 [==============================] - 1s 389ms/step\n",
      "3/3 [==============================] - 1s 395ms/step\n",
      "3/3 [==============================] - 1s 390ms/step\n",
      "3/3 [==============================] - 1s 398ms/step\n",
      "3/3 [==============================] - 1s 390ms/step\n",
      "3/3 [==============================] - 1s 396ms/step\n",
      "3/3 [==============================] - 1s 394ms/step\n",
      "3/3 [==============================] - 1s 387ms/step\n",
      "3/3 [==============================] - 1s 386ms/step\n",
      "3/3 [==============================] - 1s 401ms/step\n",
      "3/3 [==============================] - 1s 388ms/step\n",
      "3/3 [==============================] - 1s 388ms/step\n",
      "3/3 [==============================] - 1s 399ms/step\n",
      "3/3 [==============================] - 1s 389ms/step\n",
      "3/3 [==============================] - 1s 391ms/step\n",
      "3/3 [==============================] - 1s 393ms/step\n",
      "3/3 [==============================] - 1s 385ms/step\n",
      "3/3 [==============================] - 1s 380ms/step\n",
      "3/3 [==============================] - 1s 394ms/step\n",
      "3/3 [==============================] - 1s 387ms/step\n",
      "3/3 [==============================] - 1s 391ms/step\n",
      "3/3 [==============================] - 1s 391ms/step\n",
      "3/3 [==============================] - 1s 395ms/step\n",
      "3/3 [==============================] - 1s 385ms/step\n",
      "3/3 [==============================] - 1s 390ms/step\n",
      "3/3 [==============================] - 1s 404ms/step\n",
      "3/3 [==============================] - 1s 394ms/step\n",
      "3/3 [==============================] - 1s 381ms/step\n",
      "3/3 [==============================] - 1s 404ms/step\n",
      "3/3 [==============================] - 1s 390ms/step\n",
      "3/3 [==============================] - 1s 384ms/step\n",
      "3/3 [==============================] - 1s 392ms/step\n",
      "3/3 [==============================] - 1s 396ms/step\n",
      "3/3 [==============================] - 1s 391ms/step\n",
      "2/2 [==============================] - 1s 533ms/step\n"
     ]
    }
   ],
   "source": [
    "predictions_with_labels=[]\n",
    "for batch in data.batch(batch_size):\n",
    "    images, labels = batch\n",
    "    predictions = xception_model.predict(images)\n",
    "\n",
    "    for i in range(len(predictions)):\n",
    "        predicted_class = np.argmax(predictions[i])\n",
    "        max_probability = np.max(predictions[i])\n",
    "\n",
    "        if max_probability >= threshold:\n",
    "            predictions_with_labels.append(predicted_class)\n",
    "        else:\n",
    "            # Assign 'mislabeled' label to uncertain predictions\n",
    "            predictions_with_labels.append(-1)\n",
    "\n",
    "# Now you have a list 'predictions_with_labels' containing all predicted labels, including 'mislabeled' for uncertain predictions"
   ]
  },
  {
   "cell_type": "code",
   "execution_count": 47,
   "metadata": {
    "tags": []
   },
   "outputs": [],
   "source": [
    "new_labels=predictions_with_labels"
   ]
  },
  {
   "cell_type": "code",
   "execution_count": 48,
   "metadata": {
    "tags": []
   },
   "outputs": [],
   "source": [
    "predictions_with_labels=to_categorical(labelss,num_classes=10)"
   ]
  },
  {
   "cell_type": "code",
   "execution_count": 49,
   "metadata": {
    "tags": []
   },
   "outputs": [],
   "source": [
    "new_labels = np.array(new_labels)"
   ]
  },
  {
   "cell_type": "code",
   "execution_count": 50,
   "metadata": {},
   "outputs": [
    {
     "data": {
      "text/plain": [
       "(array([  31,   32,   34,   37,   43,   44,   95,   98,  112,  165,  170,\n",
       "         172,  174,  176,  177,  178,  179,  225,  240,  244,  245,  246,\n",
       "         247,  251,  254,  285,  286,  287,  288,  289,  290,  291,  292,\n",
       "         293,  294,  295,  296,  297,  298,  299,  300,  301,  302,  303,\n",
       "         304,  305,  307,  308,  309,  310,  311,  312,  313,  314,  329,\n",
       "         330,  331,  332,  333,  334,  336,  338,  339,  340,  342,  343,\n",
       "         344,  361,  364,  369,  371,  385,  389,  393,  395,  402,  404,\n",
       "         435,  438,  439,  442,  444,  447,  456,  464,  496,  499,  500,\n",
       "         504,  506,  507,  508,  513,  515,  520,  523,  570,  573,  575,\n",
       "         576,  578,  580,  637,  640,  645,  646,  648,  649,  651,  653,\n",
       "         658,  693,  700,  704,  707,  708,  713,  715,  719,  765,  766,\n",
       "         767,  769,  770,  771,  772,  778,  779,  780,  785,  786,  790,\n",
       "         800,  829,  832,  833,  835,  836,  838,  840,  863,  864,  869,\n",
       "         872,  874,  875,  879,  880,  881,  882,  883,  884,  885,  887,\n",
       "         888,  892,  894,  896,  917,  944,  960,  964,  967,  968,  969,\n",
       "         971,  972,  975,  989,  990,  992,  993,  996,  997,  998,  999,\n",
       "        1000, 1001, 1002, 1003, 1005, 1009, 1013, 1017, 1022, 1023, 1028,\n",
       "        1032, 1065, 1066, 1067, 1072, 1073, 1074, 1076, 1077, 1078, 1124,\n",
       "        1125, 1126, 1128, 1130, 1132, 1133, 1135, 1136, 1137, 1138, 1145,\n",
       "        1153, 1191, 1192, 1198, 1288, 1335, 1338, 1339, 1340, 1342, 1344,\n",
       "        1347, 1348, 1394, 1397, 1401, 1402, 1404, 1405, 1406, 1407, 1417,\n",
       "        1529, 1530, 1531, 1532, 1533, 1534, 1536, 1537, 1538, 1539, 1540,\n",
       "        1542, 1543, 1549, 1552, 1553, 1554, 1557, 1558, 1602, 1618, 1642,\n",
       "        1644, 1646, 1664, 1666, 1669, 1670, 1673, 1674, 1678, 1679, 1682,\n",
       "        1688, 1705, 1740, 1742, 1743, 1744, 1749, 1751, 1752, 1800, 1801,\n",
       "        1845, 1846, 1847, 1848, 1849, 1850, 1851, 1852, 1853, 1854, 1855,\n",
       "        1856, 1857, 1858, 1859, 1860, 1861, 1862, 1863, 1864, 1865, 1866,\n",
       "        1867, 1868, 1869, 1871, 1872, 1873, 1874, 1875, 1876, 1877, 1878,\n",
       "        1879, 1880, 1881, 1882, 1884, 1886, 1887, 1888, 1889, 1890, 1891,\n",
       "        1892, 1893, 1894, 1895, 1896, 1898, 1899, 1900, 1901, 1902, 1903,\n",
       "        1904, 1905, 1906, 1907, 1908, 1910, 1911, 1913, 1914, 1915, 1916,\n",
       "        1917, 1919, 1920, 1922, 1923, 1924, 1925, 1926, 1927, 1928, 1929,\n",
       "        1930, 1931, 1932, 1933, 1935, 1936, 1937, 1938, 1939, 1940, 1941,\n",
       "        1942, 1943, 1944, 1945, 1946, 1947, 1948, 1949, 1950, 1951, 1952,\n",
       "        1953, 1954, 1955, 1956, 1957, 1958, 1959, 1960, 1961, 1963, 1964,\n",
       "        1965, 1966, 1967, 1968, 1969, 1970, 1971, 1972, 1973, 1974, 1975,\n",
       "        1976, 1977, 1979, 1980, 1981, 1982, 1983, 1984, 1985, 1987, 1988,\n",
       "        1989, 1990, 1991, 1992, 1993, 1994, 1995, 1996, 1997, 1998, 1999,\n",
       "        2000, 2001, 2002, 2003, 2004, 2005, 2006, 2007, 2008, 2009, 2010,\n",
       "        2011, 2013, 2014, 2015, 2016, 2017, 2018, 2019, 2020, 2021, 2022,\n",
       "        2024, 2025, 2026, 2028, 2029, 2031, 2032, 2033, 2034, 2035, 2036,\n",
       "        2037, 2038, 2039, 2040, 2041, 2042, 2043, 2044, 2045, 2046, 2048,\n",
       "        2049, 2050, 2051, 2052, 2053, 2054, 2055, 2056, 2057, 2058, 2059,\n",
       "        2060, 2061, 2062, 2063, 2064, 2065, 2066, 2067, 2068, 2069, 2070,\n",
       "        2071, 2072, 2073, 2074, 2075, 2076, 2077, 2078, 2079, 2080, 2082,\n",
       "        2083, 2084, 2085, 2086, 2087, 2088, 2089, 2090, 2092, 2093, 2095,\n",
       "        2096, 2097, 2098, 2099, 2100, 2102, 2104, 2105, 2106, 2107, 2108,\n",
       "        2109, 2110, 2111, 2112, 2113, 2114, 2115, 2116, 2117, 2118, 2119,\n",
       "        2120, 2121, 2122, 2124, 2125, 2126, 2127, 2128, 2129, 2130, 2131,\n",
       "        2132, 2133, 2134, 2136, 2137, 2138, 2139, 2140, 2141, 2142, 2144,\n",
       "        2145, 2146, 2147, 2148, 2149, 2150, 2151, 2152, 2153, 2154, 2155,\n",
       "        2156, 2157, 2158, 2159, 2160, 2161, 2162, 2163, 2164, 2165, 2166,\n",
       "        2168, 2169, 2170, 2171, 2172, 2173, 2174, 2176, 2177, 2178, 2179,\n",
       "        2180, 2182, 2183, 2184, 2185, 2186, 2187, 2188, 2189, 2190, 2191,\n",
       "        2192, 2193, 2194, 2195, 2196, 2197, 2198, 2199, 2200, 2201, 2202,\n",
       "        2203, 2204, 2205, 2206, 2207, 2208, 2209, 2210, 2211, 2212, 2213,\n",
       "        2214, 2215, 2216, 2217, 2219, 2220, 2222, 2223, 2224, 2225, 2226,\n",
       "        2227, 2228, 2230, 2231, 2232, 2233, 2234, 2235, 2236, 2238, 2239,\n",
       "        2240, 2241, 2242, 2244, 2245, 2246, 2247, 2249, 2251, 2252, 2253,\n",
       "        2255, 2256, 2258, 2259, 2260, 2262, 2263, 2264, 2265, 2266, 2267,\n",
       "        2268, 2270, 2271, 2272, 2274, 2275, 2276, 2277, 2278, 2279, 2280,\n",
       "        2281, 2282, 2283, 2284, 2285, 2287, 2288, 2290, 2291, 2292, 2293,\n",
       "        2294, 2296, 2297, 2298, 2299, 2300, 2301, 2302, 2303, 2304, 2305,\n",
       "        2306, 2307, 2308, 2309, 2310, 2311, 2312, 2313, 2314, 2315, 2316,\n",
       "        2317, 2318, 2319, 2320, 2323, 2324, 2325, 2326, 2327, 2328, 2329,\n",
       "        2330, 2331, 2333, 2334, 2335, 2336, 2338, 2340, 2341, 2342, 2343,\n",
       "        2344, 2345, 2349, 2350, 2351, 2352, 2353, 2354, 2356, 2357, 2358,\n",
       "        2360, 2361, 2362, 2363, 2364, 2365, 2366, 2367, 2368, 2369, 2370,\n",
       "        2371, 2373, 2374, 2375, 2376, 2377, 2379, 2380, 2381, 2382, 2383,\n",
       "        2384, 2385, 2387, 2389, 2390, 2391, 2392, 2393, 2394, 2395, 2396,\n",
       "        2397, 2398, 2399, 2400, 2401, 2402, 2403, 2404, 2405, 2407, 2408,\n",
       "        2409, 2410, 2411, 2412, 2413, 2414, 2415, 2416, 2418, 2419, 2421,\n",
       "        2422, 2423, 2424, 2425, 2426, 2427, 2429, 2430, 2432, 2433, 2434,\n",
       "        2435, 2436, 2437, 2438, 2439, 2440, 2441, 2442, 2443, 2446, 2447,\n",
       "        2449, 2451, 2452, 2454, 2455, 2457, 2458, 2459, 2460, 2461, 2462,\n",
       "        2464, 2466, 2467, 2468, 2469, 2470, 2471, 2472, 2473, 2474, 2475,\n",
       "        2476, 2477, 2478, 2479, 2480, 2481, 2482, 2483, 2484, 2485, 2486,\n",
       "        2488, 2489, 2490, 2491, 2492, 2494, 2495, 2496, 2497, 2498, 2499,\n",
       "        2500, 2501, 2502, 2503, 2505, 2506, 2507, 2508, 2509, 2510, 2512,\n",
       "        2513, 2514, 2515, 2516, 2517, 2518, 2519, 2521, 2522, 2523, 2524,\n",
       "        2525, 2526, 2527, 2528, 2529, 2530, 2531, 2532, 2533, 2534, 2535,\n",
       "        2536, 2537, 2538, 2539, 2540, 2541, 2542, 2543], dtype=int64),)"
      ]
     },
     "execution_count": 50,
     "metadata": {},
     "output_type": "execute_result"
    }
   ],
   "source": [
    "np.where(new_labels==-1)"
   ]
  },
  {
   "cell_type": "markdown",
   "metadata": {},
   "source": [
    "## Final accuracy: the updated predicted labels compared with ground truth"
   ]
  },
  {
   "cell_type": "code",
   "execution_count": 51,
   "metadata": {},
   "outputs": [
    {
     "name": "stdout",
     "output_type": "stream",
     "text": [
      "Accuracy with threshold 0.8 mislabeled included : 0.7653301886792453\n"
     ]
    }
   ],
   "source": [
    "correct_sampless=0\n",
    "for i in range(len(new_labels)):\n",
    "        if new_labels[i] == labelss[i]:\n",
    "            correct_sampless += 1\n",
    "accuracy_with_threshold_alldata1 = correct_sampless / nn \n",
    "print(f\"Accuracy with threshold {threshold} mislabeled included : {accuracy_with_threshold_alldata1}\")"
   ]
  },
  {
   "cell_type": "code",
   "execution_count": null,
   "metadata": {},
   "outputs": [],
   "source": []
  }
 ],
 "metadata": {
  "accelerator": "GPU",
  "colab": {
   "name": "ResNet-50.ipynb",
   "provenance": []
  },
  "kernelspec": {
   "display_name": "Python 3 (ipykernel)",
   "language": "python",
   "name": "python3"
  },
  "language_info": {
   "codemirror_mode": {
    "name": "ipython",
    "version": 3
   },
   "file_extension": ".py",
   "mimetype": "text/x-python",
   "name": "python",
   "nbconvert_exporter": "python",
   "pygments_lexer": "ipython3",
   "version": "3.10.12"
  }
 },
 "nbformat": 4,
 "nbformat_minor": 4
}
