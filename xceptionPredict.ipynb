{
 "cells": [
  {
   "cell_type": "code",
   "execution_count": 1,
   "metadata": {
    "id": "0YBEz670Nnmv"
   },
   "outputs": [],
   "source": [
    "import matplotlib.pyplot as plt\n",
    "import numpy as np\n",
    "import os\n",
    "import PIL\n",
    "import tensorflow as tf\n",
    "from tensorflow import keras\n",
    "from tensorflow.keras import layers\n",
    "from tensorflow.python.keras.layers import Dense, Flatten\n",
    "from tensorflow.keras.models import Sequential\n",
    "from tensorflow.keras.optimizers import Adam\n",
    "import numpy as np\n",
    "import tensorflow_datasets as tfds\n",
    "import tensorflow as tf\n",
    "import matplotlib.pyplot as plt;\n",
    "from tensorflow.keras.utils import to_categorical\n",
    "from tensorflow.keras.applications import Xception\n",
    "from tensorflow.keras.applications.xception import preprocess_input, decode_predictions\n",
    "from tensorflow.keras.preprocessing import image\n",
    "from tensorflow.keras import layers, models\n",
    "from tensorflow.keras.callbacks import EarlyStopping\n",
    "from tensorflow.keras.models import Sequential\n",
    "import os as os\n",
    "import cv2"
   ]
  },
  {
   "cell_type": "code",
   "execution_count": 2,
   "metadata": {},
   "outputs": [],
   "source": [
    "import numpy as np\n",
    "import numpy.random as npr\n",
    "import matplotlib.pyplot as plt\n",
    "%matplotlib inline\n",
    "plt.style.use('bmh')"
   ]
  },
  {
   "cell_type": "markdown",
   "metadata": {
    "id": "Ir0q0GyfgmSI"
   },
   "source": [
    "# Preparing The Data"
   ]
  },
  {
   "cell_type": "markdown",
   "metadata": {},
   "source": [
    "### load you data here"
   ]
  },
  {
   "cell_type": "code",
   "execution_count": 3,
   "metadata": {},
   "outputs": [],
   "source": [
    "#data:\n",
    "data = np.load('Copy of data_test.npy')\n",
    "#labels:\n",
    "labelss = np.load('Copy of labels_test.npy')"
   ]
  },
  {
   "cell_type": "code",
   "execution_count": 4,
   "metadata": {
    "tags": []
   },
   "outputs": [],
   "source": [
    "nn=data.shape[1]"
   ]
  },
  {
   "cell_type": "code",
   "execution_count": 5,
   "metadata": {
    "tags": []
   },
   "outputs": [],
   "source": [
    "n=220\n",
    "data = data.T;\n",
    "data = data.reshape(nn,300,300,3)"
   ]
  },
  {
   "cell_type": "code",
   "execution_count": 6,
   "metadata": {
    "tags": []
   },
   "outputs": [],
   "source": [
    "data = tf.keras.layers.Resizing(n, n)(data)"
   ]
  },
  {
   "cell_type": "code",
   "execution_count": 7,
   "metadata": {
    "colab": {
     "base_uri": "https://localhost:8080/"
    },
    "id": "m2SdFPT6cpAi",
    "outputId": "bbceb15b-9425-42dd-8920-4ff7f39dd900"
   },
   "outputs": [],
   "source": [
    "labels = to_categorical(labelss,num_classes=9)"
   ]
  },
  {
   "cell_type": "code",
   "execution_count": 8,
   "metadata": {},
   "outputs": [],
   "source": [
    "data = np.array(data)"
   ]
  },
  {
   "cell_type": "code",
   "execution_count": 9,
   "metadata": {},
   "outputs": [],
   "source": [
    "data=data/255"
   ]
  },
  {
   "cell_type": "code",
   "execution_count": 10,
   "metadata": {
    "colab": {
     "base_uri": "https://localhost:8080/"
    },
    "id": "VA-1Jqlscs-Y",
    "outputId": "78953fea-175e-403f-83a7-bf40c5cf0203"
   },
   "outputs": [],
   "source": [
    "data = tf.data.Dataset.from_tensor_slices((data, labels))"
   ]
  },
  {
   "cell_type": "markdown",
   "metadata": {
    "id": "jK5tHnEpggbu"
   },
   "source": [
    "# Loading the weights\n"
   ]
  },
  {
   "cell_type": "code",
   "execution_count": 11,
   "metadata": {
    "tags": []
   },
   "outputs": [],
   "source": [
    "from tensorflow.keras.layers import Input, Flatten, Dense\n",
    "from tensorflow.keras.models import Model\n",
    "import tensorflow as tf\n",
    "from tensorflow.keras.callbacks import ReduceLROnPlateau\n",
    "from tensorflow.keras.layers import Dropout\n",
    " \n",
    "lr_scheduler = ReduceLROnPlateau(\n",
    "    monitor='val_loss',  # You can also use 'val_accuracy' or other metrics\n",
    "    factor=0.2,           # Factor by which the learning rate will be reduced\n",
    "    patience=6,          # Number of epochs with no improvement after which learning rate will be reduced\n",
    "    min_lr=1e-6           # Lower bound on the learning rate\n",
    ")\n",
    "\n",
    "# Create the Xception base model\n",
    "base_model = tf.keras.applications.Xception(\n",
    "    include_top=False,\n",
    "    weights=\"imagenet\",\n",
    "    input_shape=(n, n, 3),\n",
    "    pooling='avg'\n",
    ")\n",
    "base_model.trainable = False\n",
    "x = Flatten()(base_model.output)\n",
    "base_model.trainable = True\n",
    "# Fine-tune only the last few layers\n",
    "fine_tune_at = 100\n",
    "for layer in base_model.layers[:fine_tune_at]:\n",
    "    layer.trainable = False\n",
    "\n",
    "#base_model.trainable = True\n",
    "\n",
    "# Fine-tune only the last few layers\n",
    "\n",
    "x = Dense(300, activation='relu')(x)#, kernel_regularizer=tf.keras.regularizers.l2(0.001))(x)\n",
    "x=Dropout(0.60)(x)\n",
    "#x = Dense(100, activation='relu')(x)#, kernel_regularizer=tf.keras.regularizers.l2(0.001))(x)\n",
    "#x=Dropout(0.52)(x)\n",
    "x = Dense(27, activation='relu')(x)\n",
    "x=Dropout(0.5)(x)\n",
    "outputs = Dense(9, activation='softmax')(x)\n",
    "\n",
    "# Create the full model\n",
    "xception_model = Model(inputs=base_model.input, outputs=outputs)\n",
    "xception_model.load_weights('best_weights7.h5')"
   ]
  },
  {
   "cell_type": "code",
   "execution_count": 12,
   "metadata": {
    "colab": {
     "base_uri": "https://localhost:8080/"
    },
    "id": "vPCJsk68dm40",
    "outputId": "2c2d9d48-234c-4317-d64e-3cf298628979"
   },
   "outputs": [],
   "source": [
    "from tensorflow.keras.optimizers import Nadam\n",
    "optimizer = Nadam(learning_rate=0.0001, beta_1=0.96, beta_2=0.998)\n",
    "xception_model.compile(optimizer=optimizer,loss='categorical_crossentropy',metrics=['accuracy'])"
   ]
  },
  {
   "cell_type": "markdown",
   "metadata": {},
   "source": [
    "# Making Predictions"
   ]
  },
  {
   "cell_type": "code",
   "execution_count": 13,
   "metadata": {
    "scrolled": true
   },
   "outputs": [
    {
     "name": "stdout",
     "output_type": "stream",
     "text": [
      "50/50 [==============================] - 63s 1s/step - loss: 0.2202 - accuracy: 0.9646\n",
      "Test Loss: 0.22018644213676453\n",
      "Test Accuracy: 0.9646311402320862\n"
     ]
    }
   ],
   "source": [
    "batch_size = 73\n",
    "loss, accuracy = xception_model.evaluate(data.batch(batch_size))\n",
    "\n",
    "print(f\"Test Loss: {loss}\")\n",
    "print(f\"Test Accuracy: {accuracy}\")"
   ]
  },
  {
   "cell_type": "code",
   "execution_count": 14,
   "metadata": {},
   "outputs": [
    {
     "name": "stdout",
     "output_type": "stream",
     "text": [
      "3/3 [==============================] - 3s 530ms/step\n",
      "3/3 [==============================] - 2s 526ms/step\n",
      "3/3 [==============================] - 2s 523ms/step\n",
      "3/3 [==============================] - 2s 514ms/step\n",
      "3/3 [==============================] - 2s 542ms/step\n",
      "3/3 [==============================] - 2s 543ms/step\n",
      "3/3 [==============================] - 2s 544ms/step\n",
      "3/3 [==============================] - 2s 558ms/step\n",
      "3/3 [==============================] - 2s 518ms/step\n",
      "3/3 [==============================] - 2s 522ms/step\n",
      "3/3 [==============================] - 2s 520ms/step\n",
      "3/3 [==============================] - 2s 520ms/step\n",
      "3/3 [==============================] - 2s 507ms/step\n",
      "3/3 [==============================] - 2s 525ms/step\n",
      "3/3 [==============================] - 2s 513ms/step\n",
      "3/3 [==============================] - 2s 512ms/step\n",
      "3/3 [==============================] - 2s 542ms/step\n",
      "3/3 [==============================] - 2s 524ms/step\n",
      "3/3 [==============================] - 2s 525ms/step\n",
      "3/3 [==============================] - 2s 507ms/step\n",
      "3/3 [==============================] - 2s 535ms/step\n",
      "3/3 [==============================] - 2s 538ms/step\n",
      "3/3 [==============================] - 2s 533ms/step\n",
      "3/3 [==============================] - 2s 539ms/step\n",
      "3/3 [==============================] - 2s 527ms/step\n",
      "3/3 [==============================] - 2s 514ms/step\n",
      "3/3 [==============================] - 2s 518ms/step\n",
      "3/3 [==============================] - 2s 526ms/step\n",
      "3/3 [==============================] - 2s 531ms/step\n",
      "3/3 [==============================] - 2s 515ms/step\n",
      "3/3 [==============================] - 2s 526ms/step\n",
      "3/3 [==============================] - 2s 530ms/step\n",
      "3/3 [==============================] - 2s 536ms/step\n",
      "3/3 [==============================] - 2s 524ms/step\n",
      "3/3 [==============================] - 2s 545ms/step\n",
      "3/3 [==============================] - 2s 522ms/step\n",
      "3/3 [==============================] - 2s 532ms/step\n",
      "3/3 [==============================] - 2s 545ms/step\n",
      "3/3 [==============================] - 2s 525ms/step\n",
      "3/3 [==============================] - 2s 527ms/step\n",
      "3/3 [==============================] - 2s 541ms/step\n",
      "3/3 [==============================] - 2s 520ms/step\n",
      "3/3 [==============================] - 2s 538ms/step\n",
      "3/3 [==============================] - 2s 523ms/step\n",
      "3/3 [==============================] - 2s 519ms/step\n",
      "3/3 [==============================] - 2s 523ms/step\n",
      "3/3 [==============================] - 2s 524ms/step\n",
      "3/3 [==============================] - 2s 525ms/step\n",
      "3/3 [==============================] - 2s 533ms/step\n",
      "2/2 [==============================] - 1s 358ms/step\n"
     ]
    }
   ],
   "source": [
    "predictions_with_labels=[]\n",
    "for batch in data.batch(batch_size):\n",
    "    images, labels = batch\n",
    "    predictions = xception_model.predict(images)\n",
    "\n",
    "    for i in range(len(predictions)):\n",
    "        predicted_class = np.argmax(predictions[i])\n",
    "        max_probability = np.max(predictions[i])\n",
    "        predictions_with_labels.append(predicted_class)\n",
    "        "
   ]
  },
  {
   "cell_type": "code",
   "execution_count": 15,
   "metadata": {},
   "outputs": [],
   "source": [
    "labels_names = ['a',\n",
    "                'b',\n",
    "                'c',\n",
    "                'd',\n",
    "                'e',\n",
    "                'f',\n",
    "                'g',\n",
    "                'h',\n",
    "                'i']"
   ]
  },
  {
   "cell_type": "code",
   "execution_count": 16,
   "metadata": {},
   "outputs": [
    {
     "name": "stdout",
     "output_type": "stream",
     "text": [
      "\n",
      "Class\n",
      "              precision    recall  f1-score   support\n",
      "\n",
      "         0.0       0.98      0.97      0.98       402\n",
      "         1.0       0.99      0.97      0.98       402\n",
      "         2.0       0.98      0.98      0.98       401\n",
      "         3.0       0.96      0.97      0.96       402\n",
      "         4.0       0.97      0.98      0.98       402\n",
      "         5.0       0.97      0.98      0.97       402\n",
      "         6.0       0.92      0.96      0.94       404\n",
      "         7.0       0.96      0.92      0.94       402\n",
      "         8.0       0.95      0.96      0.96       402\n",
      "\n",
      "    accuracy                           0.96      3619\n",
      "   macro avg       0.96      0.96      0.96      3619\n",
      "weighted avg       0.96      0.96      0.96      3619\n",
      "\n"
     ]
    },
    {
     "data": {
      "image/png": "[encoded data removed]",
      "text/plain": [
       "<Figure size 640x480 with 2 Axes>"
      ]
     },
     "metadata": {},
     "output_type": "display_data"
    }
   ],
   "source": [
    "from sklearn.metrics import confusion_matrix, ConfusionMatrixDisplay, classification_report\n",
    "y_train = predictions_with_labels\n",
    "\n",
    "print('\\nClass')\n",
    "print(classification_report(labelss, y_train))\n",
    "cm_train=confusion_matrix(labelss, y_train)\n",
    "disp_train=ConfusionMatrixDisplay(cm_train, display_labels=labels_names)\n",
    "disp_train.plot(); plt.show()\n"
   ]
  },
  {
   "cell_type": "code",
   "execution_count": null,
   "metadata": {},
   "outputs": [],
   "source": []
  }
 ],
 "metadata": {
  "accelerator": "GPU",
  "colab": {
   "name": "ResNet-50.ipynb",
   "provenance": []
  },
  "kernelspec": {
   "display_name": "Python 3 (ipykernel)",
   "language": "python",
   "name": "python3"
  },
  "language_info": {
   "codemirror_mode": {
    "name": "ipython",
    "version": 3
   },
   "file_extension": ".py",
   "mimetype": "text/x-python",
   "name": "python",
   "nbconvert_exporter": "python",
   "pygments_lexer": "ipython3",
   "version": "3.10.12"
  }
 },
 "nbformat": 4,
 "nbformat_minor": 4
}
